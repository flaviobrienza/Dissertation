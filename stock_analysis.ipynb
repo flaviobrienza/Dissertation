{
 "cells": [
  {
   "attachments": {},
   "cell_type": "markdown",
   "metadata": {},
   "source": [
    "# Stock Analysis   \n",
    "\n",
    "This part will contain the stocks' analysis. It will be used to create the different financial offers.   "
   ]
  },
  {
   "attachments": {},
   "cell_type": "markdown",
   "metadata": {},
   "source": [
    "# Importing Libraries"
   ]
  },
  {
   "cell_type": "code",
   "execution_count": 1,
   "metadata": {},
   "outputs": [],
   "source": [
    "import pandas as pd\n",
    "import numpy as np\n",
    "import matplotlib\n",
    "import matplotlib.pyplot as plt\n",
    "import seaborn as sns\n",
    "%matplotlib inline\n",
    "\n",
    "sns.set_style(\"darkgrid\")\n",
    "matplotlib.rcParams['font.size'] = 14\n",
    "matplotlib.rcParams['figure.figsize'] = (15, 5)\n",
    "matplotlib.rcParams['figure.facecolor'] = '#00000000'\n",
    "\n",
    "import warnings\n",
    "warnings.simplefilter(action='ignore') \n",
    "\n",
    "import yahoofinancials \n",
    "from yahoofinancials import YahooFinancials"
   ]
  },
  {
   "attachments": {},
   "cell_type": "markdown",
   "metadata": {},
   "source": [
    "# Importing Data"
   ]
  },
  {
   "attachments": {},
   "cell_type": "markdown",
   "metadata": {},
   "source": [
    "## Example"
   ]
  },
  {
   "attachments": {},
   "cell_type": "markdown",
   "metadata": {},
   "source": [
    "It is possible to use the \"yahoofinancials\" library to get stock data.  \n",
    "In the following cell is reported an example of how to use it. "
   ]
  },
  {
   "cell_type": "code",
   "execution_count": 2,
   "metadata": {},
   "outputs": [
    {
     "data": {
      "text/html": [
       "<div>\n",
       "<style scoped>\n",
       "    .dataframe tbody tr th:only-of-type {\n",
       "        vertical-align: middle;\n",
       "    }\n",
       "\n",
       "    .dataframe tbody tr th {\n",
       "        vertical-align: top;\n",
       "    }\n",
       "\n",
       "    .dataframe thead th {\n",
       "        text-align: right;\n",
       "    }\n",
       "</style>\n",
       "<table border=\"1\" class=\"dataframe\">\n",
       "  <thead>\n",
       "    <tr style=\"text-align: right;\">\n",
       "      <th></th>\n",
       "      <th>high</th>\n",
       "      <th>low</th>\n",
       "      <th>open</th>\n",
       "      <th>close</th>\n",
       "      <th>volume</th>\n",
       "      <th>adjclose</th>\n",
       "      <th>formatted_date</th>\n",
       "      <th>Company</th>\n",
       "    </tr>\n",
       "  </thead>\n",
       "  <tbody>\n",
       "    <tr>\n",
       "      <th>0</th>\n",
       "      <td>171.270004</td>\n",
       "      <td>165.039993</td>\n",
       "      <td>167.389999</td>\n",
       "      <td>165.289993</td>\n",
       "      <td>145948300</td>\n",
       "      <td>164.294739</td>\n",
       "      <td>2022-04-11</td>\n",
       "      <td>AAPL</td>\n",
       "    </tr>\n",
       "    <tr>\n",
       "      <th>1</th>\n",
       "      <td>171.529999</td>\n",
       "      <td>161.500000</td>\n",
       "      <td>163.919998</td>\n",
       "      <td>161.789993</td>\n",
       "      <td>376787700</td>\n",
       "      <td>160.815811</td>\n",
       "      <td>2022-04-18</td>\n",
       "      <td>AAPL</td>\n",
       "    </tr>\n",
       "    <tr>\n",
       "      <th>2</th>\n",
       "      <td>166.199997</td>\n",
       "      <td>155.380005</td>\n",
       "      <td>161.119995</td>\n",
       "      <td>157.649994</td>\n",
       "      <td>541697200</td>\n",
       "      <td>156.700729</td>\n",
       "      <td>2022-04-25</td>\n",
       "      <td>AAPL</td>\n",
       "    </tr>\n",
       "    <tr>\n",
       "      <th>3</th>\n",
       "      <td>166.479996</td>\n",
       "      <td>153.270004</td>\n",
       "      <td>156.710007</td>\n",
       "      <td>157.279999</td>\n",
       "      <td>566928200</td>\n",
       "      <td>156.332993</td>\n",
       "      <td>2022-05-02</td>\n",
       "      <td>AAPL</td>\n",
       "    </tr>\n",
       "    <tr>\n",
       "      <th>4</th>\n",
       "      <td>156.740005</td>\n",
       "      <td>138.800003</td>\n",
       "      <td>154.929993</td>\n",
       "      <td>147.110001</td>\n",
       "      <td>686227300</td>\n",
       "      <td>146.439056</td>\n",
       "      <td>2022-05-09</td>\n",
       "      <td>AAPL</td>\n",
       "    </tr>\n",
       "  </tbody>\n",
       "</table>\n",
       "</div>"
      ],
      "text/plain": [
       "         high         low        open       close     volume    adjclose   \n",
       "0  171.270004  165.039993  167.389999  165.289993  145948300  164.294739  \\\n",
       "1  171.529999  161.500000  163.919998  161.789993  376787700  160.815811   \n",
       "2  166.199997  155.380005  161.119995  157.649994  541697200  156.700729   \n",
       "3  166.479996  153.270004  156.710007  157.279999  566928200  156.332993   \n",
       "4  156.740005  138.800003  154.929993  147.110001  686227300  146.439056   \n",
       "\n",
       "  formatted_date Company  \n",
       "0     2022-04-11    AAPL  \n",
       "1     2022-04-18    AAPL  \n",
       "2     2022-04-25    AAPL  \n",
       "3     2022-05-02    AAPL  \n",
       "4     2022-05-09    AAPL  "
      ]
     },
     "execution_count": 2,
     "metadata": {},
     "output_type": "execute_result"
    }
   ],
   "source": [
    "ticker = 'AAPL'\n",
    "\n",
    "apple = YahooFinancials(ticker)  \n",
    "\n",
    "apple_stats = pd.DataFrame(apple.get_historical_price_data(start_date = '2022-04-14', end_date='2023-04-14', time_interval='weekly')).loc['prices', 'AAPL']\n",
    "\n",
    "apple_df = pd.DataFrame(apple_stats).drop(columns='date') \n",
    "\n",
    "apple_df['Company'] = ticker\n",
    "\n",
    "apple_df.head()\n"
   ]
  },
  {
   "attachments": {},
   "cell_type": "markdown",
   "metadata": {},
   "source": [
    "Checking the shape."
   ]
  },
  {
   "cell_type": "code",
   "execution_count": 3,
   "metadata": {},
   "outputs": [
    {
     "data": {
      "text/plain": [
       "(53, 8)"
      ]
     },
     "execution_count": 3,
     "metadata": {},
     "output_type": "execute_result"
    }
   ],
   "source": [
    "apple_df.shape"
   ]
  },
  {
   "attachments": {},
   "cell_type": "markdown",
   "metadata": {},
   "source": [
    "It contains 53 rows, one row per week.  \n",
    "As it is possible to see, this process returns all the information about the company's stocks.  \n",
    "The column \"Company\" was added to provide further information and to avoid making confusion when more companies will be considered.  "
   ]
  },
  {
   "attachments": {},
   "cell_type": "markdown",
   "metadata": {},
   "source": [
    "## Creating the Dataframe"
   ]
  },
  {
   "cell_type": "code",
   "execution_count": 10,
   "metadata": {},
   "outputs": [
    {
     "data": {
      "text/plain": [
       "41"
      ]
     },
     "execution_count": 10,
     "metadata": {},
     "output_type": "execute_result"
    }
   ],
   "source": [
    "tickers = ['AAPL', 'MSFT', 'IBM', 'SAP', 'CRM', 'ACN', 'INTC', 'UBER', 'TSM', 'ORCL',\n",
    "           'GS', 'BLK', 'JPM', 'DB', 'SAN', 'HSBC', 'WFC', 'SPGI', 'UBS', 'ING', \n",
    "           'E', 'SHEL', 'NGG', 'EIS', 'KMI', 'TDW', 'PSX', 'WDS', 'EOG', 'SU', \n",
    "           'STLA', 'GM', 'F', 'TRIP', 'ABNB', 'EXPE', 'AMZN', 'TSLA', 'EBAY', 'BABA',\n",
    "           'GC=F'] \n",
    "\n",
    "len(tickers)"
   ]
  },
  {
   "attachments": {},
   "cell_type": "markdown",
   "metadata": {},
   "source": [
    "All the tickers have been reported.   \n",
    "Now it is necessary to create a function to store all the companies' information.  "
   ]
  },
  {
   "cell_type": "code",
   "execution_count": 5,
   "metadata": {},
   "outputs": [],
   "source": [
    "def company_data(comp):\n",
    "    try: \n",
    "        # Creating the YahooFinancials instance \n",
    "        company = YahooFinancials(comp)\n",
    "\n",
    "        # Storing price information in a Pandas DataFrame\n",
    "        company_stats = pd.DataFrame(company.get_historical_price_data(start_date='2022-04-14', end_date='2023-04-14', time_interval='weekly')).loc['prices', comp]\n",
    "\n",
    "        # Removing the formatted date column\n",
    "        company_df = pd.DataFrame(company_stats).drop(columns='date')\n",
    "\n",
    "        # Adding the company name \n",
    "        company_df['Company'] = comp \n",
    "\n",
    "        # Return the Pandas DataFrame\n",
    "        return company_df \n",
    "    except: \n",
    "\n",
    "        # If something does not work return the company with troubles \n",
    "        return comp"
   ]
  },
  {
   "attachments": {},
   "cell_type": "markdown",
   "metadata": {},
   "source": [
    "Now, all the dataframes should be concatenated to create a new one.  "
   ]
  },
  {
   "cell_type": "code",
   "execution_count": 6,
   "metadata": {},
   "outputs": [],
   "source": [
    "# Creating an empty Pandas DataFrame for the concatenate process\n",
    "\n",
    "companies_df = pd.DataFrame() \n",
    "\n",
    "# Creating a \"for\" loop to concatenate all the information together  \n",
    "\n",
    "for t in tickers: \n",
    "    c_df = company_data(t)\n",
    "    companies_df = pd.concat([companies_df, c_df]) "
   ]
  },
  {
   "attachments": {},
   "cell_type": "markdown",
   "metadata": {},
   "source": [
    "Showing the result. The new DataFrame should contain 2173 rows (53 weeks * 41 tickers). "
   ]
  },
  {
   "cell_type": "code",
   "execution_count": 2,
   "metadata": {},
   "outputs": [
    {
     "name": "stdout",
     "output_type": "stream",
     "text": [
      "<class 'pandas.core.frame.DataFrame'>\n",
      "RangeIndex: 2173 entries, 0 to 2172\n",
      "Data columns (total 10 columns):\n",
      " #   Column          Non-Null Count  Dtype  \n",
      "---  ------          --------------  -----  \n",
      " 0   high            2173 non-null   float64\n",
      " 1   low             2173 non-null   float64\n",
      " 2   open            2173 non-null   float64\n",
      " 3   close           2173 non-null   float64\n",
      " 4   volume          2173 non-null   int64  \n",
      " 5   adjclose        2173 non-null   float64\n",
      " 6   formatted_date  2173 non-null   object \n",
      " 7   Company         2173 non-null   object \n",
      " 8   Sector          2173 non-null   object \n",
      " 9   Year_Month      2173 non-null   object \n",
      "dtypes: float64(5), int64(1), object(4)\n",
      "memory usage: 169.9+ KB\n"
     ]
    }
   ],
   "source": [
    "companies_df = pd.read_csv('./dissertation_companies.csv')\n",
    "\n",
    "companies_df.info()"
   ]
  },
  {
   "attachments": {},
   "cell_type": "markdown",
   "metadata": {},
   "source": [
    "The results appear to be correct.  \n",
    "More in the detail, it is important to check if all the companies have the same number of entries. "
   ]
  },
  {
   "cell_type": "code",
   "execution_count": 3,
   "metadata": {},
   "outputs": [
    {
     "data": {
      "text/plain": [
       "Company\n",
       "AAPL    53\n",
       "SHEL    53\n",
       "EIS     53\n",
       "KMI     53\n",
       "TDW     53\n",
       "Name: count, dtype: int64"
      ]
     },
     "execution_count": 3,
     "metadata": {},
     "output_type": "execute_result"
    }
   ],
   "source": [
    "companies_df.Company.value_counts().head()"
   ]
  },
  {
   "attachments": {},
   "cell_type": "markdown",
   "metadata": {},
   "source": [
    "It seems correct, by the way a further check can be performed. "
   ]
  },
  {
   "cell_type": "code",
   "execution_count": 4,
   "metadata": {},
   "outputs": [
    {
     "data": {
      "text/plain": [
       "(array([], dtype=int64),)"
      ]
     },
     "execution_count": 4,
     "metadata": {},
     "output_type": "execute_result"
    }
   ],
   "source": [
    "np.where(companies_df.Company.value_counts().values != 53)"
   ]
  },
  {
   "attachments": {},
   "cell_type": "markdown",
   "metadata": {},
   "source": [
    "Now it is sure that all the companies have the same number of entries.  \n",
    "The last step before starting the analysis is saving the new dataset to avoid repeating the same operation each time and, most important, to always work with the same data."
   ]
  },
  {
   "cell_type": "code",
   "execution_count": 10,
   "metadata": {},
   "outputs": [],
   "source": [
    "#companies_df.to_csv('dissertation_companies.csv', index=None) "
   ]
  },
  {
   "attachments": {},
   "cell_type": "markdown",
   "metadata": {},
   "source": [
    "# Data Analysis "
   ]
  },
  {
   "attachments": {},
   "cell_type": "markdown",
   "metadata": {},
   "source": [
    "## Sectors' Analysis"
   ]
  },
  {
   "attachments": {},
   "cell_type": "markdown",
   "metadata": {},
   "source": [
    "Creating a function to define the sector of each company. "
   ]
  },
  {
   "cell_type": "code",
   "execution_count": 11,
   "metadata": {},
   "outputs": [
    {
     "name": "stdout",
     "output_type": "stream",
     "text": [
      "['AAPL', 'MSFT', 'IBM', 'SAP', 'CRM', 'ACN', 'INTC', 'UBER', 'TSM', 'ORCL'] len: 10\n",
      "['GS', 'BLK', 'JPM', 'DB', 'SAN', 'HSBC', 'WFC', 'SPGI', 'UBS', 'ING'] len: 10\n",
      "['E', 'SHEL', 'NGG', 'EIS', 'KMI', 'TDW', 'PSX', 'WDS', 'EOG', 'SU'] len: 10\n",
      "['STLA', 'GM', 'F', 'TRIP', 'ABNB', 'EXPE', 'AMZN', 'TSLA', 'EBAY', 'BABA'] len: 10\n",
      "['GC=F'] len: 1\n"
     ]
    }
   ],
   "source": [
    "# Creating lists with companies from each sector\n",
    "\n",
    "tech = ['AAPL', 'MSFT', 'IBM', 'SAP', 'CRM', 'ACN', 'INTC', 'UBER', 'TSM', 'ORCL'] \n",
    "financial = ['GS', 'BLK', 'JPM', 'DB', 'SAN', 'HSBC', 'WFC', 'SPGI', 'UBS', 'ING'] \n",
    "energy_util = ['E', 'SHEL', 'NGG', 'EIS', 'KMI', 'TDW', 'PSX', 'WDS', 'EOG', 'SU'] \n",
    "consumer = ['STLA', 'GM', 'F', 'TRIP', 'ABNB', 'EXPE', 'AMZN', 'TSLA', 'EBAY', 'BABA'] \n",
    "gold = ['GC=F']  \n",
    "\n",
    "#  Checking if all of them have ten companies inside \n",
    "\n",
    "sectors = [tech, financial, energy_util, consumer, gold] \n",
    "\n",
    "for x in sectors: \n",
    "    print(f'{x} len: {len(x)}')"
   ]
  },
  {
   "attachments": {},
   "cell_type": "markdown",
   "metadata": {},
   "source": [
    "Writing the function."
   ]
  },
  {
   "cell_type": "code",
   "execution_count": 12,
   "metadata": {},
   "outputs": [],
   "source": [
    "def sector_definition(row): \n",
    "    if row in tech: \n",
    "        return 'Technology' \n",
    "    elif row in financial: \n",
    "        return 'Financial Services' \n",
    "    elif row in energy_util: \n",
    "        return 'Energy & Utilities' \n",
    "    elif row in consumer: \n",
    "        return 'Consumer Cyclical' \n",
    "    else: \n",
    "        return 'Gold' "
   ]
  },
  {
   "attachments": {},
   "cell_type": "markdown",
   "metadata": {},
   "source": [
    "Applying it."
   ]
  },
  {
   "cell_type": "code",
   "execution_count": 14,
   "metadata": {},
   "outputs": [
    {
     "data": {
      "text/html": [
       "<div>\n",
       "<style scoped>\n",
       "    .dataframe tbody tr th:only-of-type {\n",
       "        vertical-align: middle;\n",
       "    }\n",
       "\n",
       "    .dataframe tbody tr th {\n",
       "        vertical-align: top;\n",
       "    }\n",
       "\n",
       "    .dataframe thead th {\n",
       "        text-align: right;\n",
       "    }\n",
       "</style>\n",
       "<table border=\"1\" class=\"dataframe\">\n",
       "  <thead>\n",
       "    <tr style=\"text-align: right;\">\n",
       "      <th></th>\n",
       "      <th>high</th>\n",
       "      <th>low</th>\n",
       "      <th>open</th>\n",
       "      <th>close</th>\n",
       "      <th>volume</th>\n",
       "      <th>adjclose</th>\n",
       "      <th>formatted_date</th>\n",
       "      <th>Company</th>\n",
       "      <th>Sector</th>\n",
       "    </tr>\n",
       "  </thead>\n",
       "  <tbody>\n",
       "    <tr>\n",
       "      <th>0</th>\n",
       "      <td>171.270004</td>\n",
       "      <td>165.039993</td>\n",
       "      <td>167.389999</td>\n",
       "      <td>165.289993</td>\n",
       "      <td>145948300</td>\n",
       "      <td>164.294739</td>\n",
       "      <td>2022-04-11</td>\n",
       "      <td>AAPL</td>\n",
       "      <td>Technology</td>\n",
       "    </tr>\n",
       "    <tr>\n",
       "      <th>1</th>\n",
       "      <td>171.529999</td>\n",
       "      <td>161.500000</td>\n",
       "      <td>163.919998</td>\n",
       "      <td>161.789993</td>\n",
       "      <td>376787700</td>\n",
       "      <td>160.815811</td>\n",
       "      <td>2022-04-18</td>\n",
       "      <td>AAPL</td>\n",
       "      <td>Technology</td>\n",
       "    </tr>\n",
       "    <tr>\n",
       "      <th>2</th>\n",
       "      <td>166.199997</td>\n",
       "      <td>155.380005</td>\n",
       "      <td>161.119995</td>\n",
       "      <td>157.649994</td>\n",
       "      <td>541697200</td>\n",
       "      <td>156.700729</td>\n",
       "      <td>2022-04-25</td>\n",
       "      <td>AAPL</td>\n",
       "      <td>Technology</td>\n",
       "    </tr>\n",
       "    <tr>\n",
       "      <th>3</th>\n",
       "      <td>166.479996</td>\n",
       "      <td>153.270004</td>\n",
       "      <td>156.710007</td>\n",
       "      <td>157.279999</td>\n",
       "      <td>566928200</td>\n",
       "      <td>156.332993</td>\n",
       "      <td>2022-05-02</td>\n",
       "      <td>AAPL</td>\n",
       "      <td>Technology</td>\n",
       "    </tr>\n",
       "    <tr>\n",
       "      <th>4</th>\n",
       "      <td>156.740005</td>\n",
       "      <td>138.800003</td>\n",
       "      <td>154.929993</td>\n",
       "      <td>147.110001</td>\n",
       "      <td>686227300</td>\n",
       "      <td>146.439056</td>\n",
       "      <td>2022-05-09</td>\n",
       "      <td>AAPL</td>\n",
       "      <td>Technology</td>\n",
       "    </tr>\n",
       "  </tbody>\n",
       "</table>\n",
       "</div>"
      ],
      "text/plain": [
       "         high         low        open       close     volume    adjclose   \n",
       "0  171.270004  165.039993  167.389999  165.289993  145948300  164.294739  \\\n",
       "1  171.529999  161.500000  163.919998  161.789993  376787700  160.815811   \n",
       "2  166.199997  155.380005  161.119995  157.649994  541697200  156.700729   \n",
       "3  166.479996  153.270004  156.710007  157.279999  566928200  156.332993   \n",
       "4  156.740005  138.800003  154.929993  147.110001  686227300  146.439056   \n",
       "\n",
       "  formatted_date Company      Sector  \n",
       "0     2022-04-11    AAPL  Technology  \n",
       "1     2022-04-18    AAPL  Technology  \n",
       "2     2022-04-25    AAPL  Technology  \n",
       "3     2022-05-02    AAPL  Technology  \n",
       "4     2022-05-09    AAPL  Technology  "
      ]
     },
     "execution_count": 14,
     "metadata": {},
     "output_type": "execute_result"
    }
   ],
   "source": [
    "companies_df['Sector'] = companies_df.Company.apply(sector_definition) \n",
    "companies_df.head()"
   ]
  },
  {
   "attachments": {},
   "cell_type": "markdown",
   "metadata": {},
   "source": [
    "Checking if all the sectors have been written properly. "
   ]
  },
  {
   "cell_type": "code",
   "execution_count": 15,
   "metadata": {},
   "outputs": [
    {
     "data": {
      "text/plain": [
       "Sector\n",
       "Technology            530\n",
       "Financial Services    530\n",
       "Energy & Utilities    530\n",
       "Consumer Cyclical     530\n",
       "Gold                   53\n",
       "Name: count, dtype: int64"
      ]
     },
     "execution_count": 15,
     "metadata": {},
     "output_type": "execute_result"
    }
   ],
   "source": [
    "companies_df.Sector.value_counts()"
   ]
  },
  {
   "attachments": {},
   "cell_type": "markdown",
   "metadata": {},
   "source": [
    "Every sector has 530 entries (53 * 10), except gold that has only one \"company\". "
   ]
  },
  {
   "attachments": {},
   "cell_type": "markdown",
   "metadata": {},
   "source": [
    "A first important preliminary question could be: what was the trend for these sectors?  \n",
    "In order not to have too many observations on the x-axis, it is better to consider only the year and the month. "
   ]
  },
  {
   "cell_type": "code",
   "execution_count": 75,
   "metadata": {},
   "outputs": [
    {
     "data": {
      "text/html": [
       "<div>\n",
       "<style scoped>\n",
       "    .dataframe tbody tr th:only-of-type {\n",
       "        vertical-align: middle;\n",
       "    }\n",
       "\n",
       "    .dataframe tbody tr th {\n",
       "        vertical-align: top;\n",
       "    }\n",
       "\n",
       "    .dataframe thead th {\n",
       "        text-align: right;\n",
       "    }\n",
       "</style>\n",
       "<table border=\"1\" class=\"dataframe\">\n",
       "  <thead>\n",
       "    <tr style=\"text-align: right;\">\n",
       "      <th></th>\n",
       "      <th>high</th>\n",
       "      <th>low</th>\n",
       "      <th>open</th>\n",
       "      <th>close</th>\n",
       "      <th>volume</th>\n",
       "      <th>adjclose</th>\n",
       "      <th>formatted_date</th>\n",
       "      <th>Company</th>\n",
       "      <th>Sector</th>\n",
       "      <th>Year_Month</th>\n",
       "    </tr>\n",
       "  </thead>\n",
       "  <tbody>\n",
       "    <tr>\n",
       "      <th>0</th>\n",
       "      <td>171.270004</td>\n",
       "      <td>165.039993</td>\n",
       "      <td>167.389999</td>\n",
       "      <td>165.289993</td>\n",
       "      <td>145948300</td>\n",
       "      <td>164.294739</td>\n",
       "      <td>2022-04-11</td>\n",
       "      <td>AAPL</td>\n",
       "      <td>Technology</td>\n",
       "      <td>2022-04</td>\n",
       "    </tr>\n",
       "    <tr>\n",
       "      <th>1</th>\n",
       "      <td>171.529999</td>\n",
       "      <td>161.500000</td>\n",
       "      <td>163.919998</td>\n",
       "      <td>161.789993</td>\n",
       "      <td>376787700</td>\n",
       "      <td>160.815811</td>\n",
       "      <td>2022-04-18</td>\n",
       "      <td>AAPL</td>\n",
       "      <td>Technology</td>\n",
       "      <td>2022-04</td>\n",
       "    </tr>\n",
       "    <tr>\n",
       "      <th>2</th>\n",
       "      <td>166.199997</td>\n",
       "      <td>155.380005</td>\n",
       "      <td>161.119995</td>\n",
       "      <td>157.649994</td>\n",
       "      <td>541697200</td>\n",
       "      <td>156.700729</td>\n",
       "      <td>2022-04-25</td>\n",
       "      <td>AAPL</td>\n",
       "      <td>Technology</td>\n",
       "      <td>2022-04</td>\n",
       "    </tr>\n",
       "    <tr>\n",
       "      <th>3</th>\n",
       "      <td>166.479996</td>\n",
       "      <td>153.270004</td>\n",
       "      <td>156.710007</td>\n",
       "      <td>157.279999</td>\n",
       "      <td>566928200</td>\n",
       "      <td>156.332993</td>\n",
       "      <td>2022-05-02</td>\n",
       "      <td>AAPL</td>\n",
       "      <td>Technology</td>\n",
       "      <td>2022-05</td>\n",
       "    </tr>\n",
       "    <tr>\n",
       "      <th>4</th>\n",
       "      <td>156.740005</td>\n",
       "      <td>138.800003</td>\n",
       "      <td>154.929993</td>\n",
       "      <td>147.110001</td>\n",
       "      <td>686227300</td>\n",
       "      <td>146.439056</td>\n",
       "      <td>2022-05-09</td>\n",
       "      <td>AAPL</td>\n",
       "      <td>Technology</td>\n",
       "      <td>2022-05</td>\n",
       "    </tr>\n",
       "  </tbody>\n",
       "</table>\n",
       "</div>"
      ],
      "text/plain": [
       "         high         low        open       close     volume    adjclose   \n",
       "0  171.270004  165.039993  167.389999  165.289993  145948300  164.294739  \\\n",
       "1  171.529999  161.500000  163.919998  161.789993  376787700  160.815811   \n",
       "2  166.199997  155.380005  161.119995  157.649994  541697200  156.700729   \n",
       "3  166.479996  153.270004  156.710007  157.279999  566928200  156.332993   \n",
       "4  156.740005  138.800003  154.929993  147.110001  686227300  146.439056   \n",
       "\n",
       "  formatted_date Company      Sector Year_Month  \n",
       "0     2022-04-11    AAPL  Technology    2022-04  \n",
       "1     2022-04-18    AAPL  Technology    2022-04  \n",
       "2     2022-04-25    AAPL  Technology    2022-04  \n",
       "3     2022-05-02    AAPL  Technology    2022-05  \n",
       "4     2022-05-09    AAPL  Technology    2022-05  "
      ]
     },
     "execution_count": 75,
     "metadata": {},
     "output_type": "execute_result"
    }
   ],
   "source": [
    "companies_df['Year_Month'] = pd.to_datetime(companies_df.formatted_date).dt.strftime('%Y-%m') \n",
    "companies_df.head()"
   ]
  },
  {
   "attachments": {},
   "cell_type": "markdown",
   "metadata": {},
   "source": [
    "Plotting graphs for each sector. "
   ]
  },
  {
   "cell_type": "code",
   "execution_count": 13,
   "metadata": {},
   "outputs": [
    {
     "data": {
      "text/html": [
       "<div>\n",
       "<style scoped>\n",
       "    .dataframe tbody tr th:only-of-type {\n",
       "        vertical-align: middle;\n",
       "    }\n",
       "\n",
       "    .dataframe tbody tr th {\n",
       "        vertical-align: top;\n",
       "    }\n",
       "\n",
       "    .dataframe thead th {\n",
       "        text-align: right;\n",
       "    }\n",
       "</style>\n",
       "<table border=\"1\" class=\"dataframe\">\n",
       "  <thead>\n",
       "    <tr style=\"text-align: right;\">\n",
       "      <th></th>\n",
       "      <th>high</th>\n",
       "      <th>low</th>\n",
       "      <th>open</th>\n",
       "      <th>close</th>\n",
       "      <th>volume</th>\n",
       "      <th>adjclose</th>\n",
       "      <th>formatted_date</th>\n",
       "      <th>Company</th>\n",
       "      <th>Sector</th>\n",
       "      <th>Year_Month</th>\n",
       "    </tr>\n",
       "  </thead>\n",
       "  <tbody>\n",
       "    <tr>\n",
       "      <th>0</th>\n",
       "      <td>171.270004</td>\n",
       "      <td>165.039993</td>\n",
       "      <td>167.389999</td>\n",
       "      <td>165.289993</td>\n",
       "      <td>145948300</td>\n",
       "      <td>164.294739</td>\n",
       "      <td>2022-04-11</td>\n",
       "      <td>AAPL</td>\n",
       "      <td>Technology</td>\n",
       "      <td>2022-04</td>\n",
       "    </tr>\n",
       "    <tr>\n",
       "      <th>1</th>\n",
       "      <td>171.529999</td>\n",
       "      <td>161.500000</td>\n",
       "      <td>163.919998</td>\n",
       "      <td>161.789993</td>\n",
       "      <td>376787700</td>\n",
       "      <td>160.815811</td>\n",
       "      <td>2022-04-18</td>\n",
       "      <td>AAPL</td>\n",
       "      <td>Technology</td>\n",
       "      <td>2022-04</td>\n",
       "    </tr>\n",
       "    <tr>\n",
       "      <th>2</th>\n",
       "      <td>166.199997</td>\n",
       "      <td>155.380005</td>\n",
       "      <td>161.119995</td>\n",
       "      <td>157.649994</td>\n",
       "      <td>541697200</td>\n",
       "      <td>156.700729</td>\n",
       "      <td>2022-04-25</td>\n",
       "      <td>AAPL</td>\n",
       "      <td>Technology</td>\n",
       "      <td>2022-04</td>\n",
       "    </tr>\n",
       "    <tr>\n",
       "      <th>3</th>\n",
       "      <td>166.479996</td>\n",
       "      <td>153.270004</td>\n",
       "      <td>156.710007</td>\n",
       "      <td>157.279999</td>\n",
       "      <td>566928200</td>\n",
       "      <td>156.332993</td>\n",
       "      <td>2022-05-02</td>\n",
       "      <td>AAPL</td>\n",
       "      <td>Technology</td>\n",
       "      <td>2022-05</td>\n",
       "    </tr>\n",
       "    <tr>\n",
       "      <th>4</th>\n",
       "      <td>156.740005</td>\n",
       "      <td>138.800003</td>\n",
       "      <td>154.929993</td>\n",
       "      <td>147.110001</td>\n",
       "      <td>686227300</td>\n",
       "      <td>146.439056</td>\n",
       "      <td>2022-05-09</td>\n",
       "      <td>AAPL</td>\n",
       "      <td>Technology</td>\n",
       "      <td>2022-05</td>\n",
       "    </tr>\n",
       "    <tr>\n",
       "      <th>...</th>\n",
       "      <td>...</td>\n",
       "      <td>...</td>\n",
       "      <td>...</td>\n",
       "      <td>...</td>\n",
       "      <td>...</td>\n",
       "      <td>...</td>\n",
       "      <td>...</td>\n",
       "      <td>...</td>\n",
       "      <td>...</td>\n",
       "      <td>...</td>\n",
       "    </tr>\n",
       "    <tr>\n",
       "      <th>2168</th>\n",
       "      <td>1985.099976</td>\n",
       "      <td>1875.099976</td>\n",
       "      <td>1890.800049</td>\n",
       "      <td>1969.800049</td>\n",
       "      <td>1650</td>\n",
       "      <td>1969.800049</td>\n",
       "      <td>2023-03-13</td>\n",
       "      <td>GC=F</td>\n",
       "      <td>Gold</td>\n",
       "      <td>2023-03</td>\n",
       "    </tr>\n",
       "    <tr>\n",
       "      <th>2169</th>\n",
       "      <td>2003.900024</td>\n",
       "      <td>1938.000000</td>\n",
       "      <td>1988.300049</td>\n",
       "      <td>1982.099976</td>\n",
       "      <td>538</td>\n",
       "      <td>1982.099976</td>\n",
       "      <td>2023-03-20</td>\n",
       "      <td>GC=F</td>\n",
       "      <td>Gold</td>\n",
       "      <td>2023-03</td>\n",
       "    </tr>\n",
       "    <tr>\n",
       "      <th>2170</th>\n",
       "      <td>1986.800049</td>\n",
       "      <td>1952.400024</td>\n",
       "      <td>1957.199951</td>\n",
       "      <td>1969.000000</td>\n",
       "      <td>100537</td>\n",
       "      <td>1969.000000</td>\n",
       "      <td>2023-03-27</td>\n",
       "      <td>GC=F</td>\n",
       "      <td>Gold</td>\n",
       "      <td>2023-03</td>\n",
       "    </tr>\n",
       "    <tr>\n",
       "      <th>2171</th>\n",
       "      <td>2033.800049</td>\n",
       "      <td>1950.000000</td>\n",
       "      <td>1968.099976</td>\n",
       "      <td>2011.900024</td>\n",
       "      <td>2073</td>\n",
       "      <td>2011.900024</td>\n",
       "      <td>2023-04-03</td>\n",
       "      <td>GC=F</td>\n",
       "      <td>Gold</td>\n",
       "      <td>2023-04</td>\n",
       "    </tr>\n",
       "    <tr>\n",
       "      <th>2172</th>\n",
       "      <td>2048.600098</td>\n",
       "      <td>1984.000000</td>\n",
       "      <td>2000.000000</td>\n",
       "      <td>2041.300049</td>\n",
       "      <td>1935</td>\n",
       "      <td>2041.300049</td>\n",
       "      <td>2023-04-10</td>\n",
       "      <td>GC=F</td>\n",
       "      <td>Gold</td>\n",
       "      <td>2023-04</td>\n",
       "    </tr>\n",
       "  </tbody>\n",
       "</table>\n",
       "<p>2173 rows × 10 columns</p>\n",
       "</div>"
      ],
      "text/plain": [
       "             high          low         open        close     volume   \n",
       "0      171.270004   165.039993   167.389999   165.289993  145948300  \\\n",
       "1      171.529999   161.500000   163.919998   161.789993  376787700   \n",
       "2      166.199997   155.380005   161.119995   157.649994  541697200   \n",
       "3      166.479996   153.270004   156.710007   157.279999  566928200   \n",
       "4      156.740005   138.800003   154.929993   147.110001  686227300   \n",
       "...           ...          ...          ...          ...        ...   \n",
       "2168  1985.099976  1875.099976  1890.800049  1969.800049       1650   \n",
       "2169  2003.900024  1938.000000  1988.300049  1982.099976        538   \n",
       "2170  1986.800049  1952.400024  1957.199951  1969.000000     100537   \n",
       "2171  2033.800049  1950.000000  1968.099976  2011.900024       2073   \n",
       "2172  2048.600098  1984.000000  2000.000000  2041.300049       1935   \n",
       "\n",
       "         adjclose formatted_date Company      Sector Year_Month  \n",
       "0      164.294739     2022-04-11    AAPL  Technology    2022-04  \n",
       "1      160.815811     2022-04-18    AAPL  Technology    2022-04  \n",
       "2      156.700729     2022-04-25    AAPL  Technology    2022-04  \n",
       "3      156.332993     2022-05-02    AAPL  Technology    2022-05  \n",
       "4      146.439056     2022-05-09    AAPL  Technology    2022-05  \n",
       "...           ...            ...     ...         ...        ...  \n",
       "2168  1969.800049     2023-03-13    GC=F        Gold    2023-03  \n",
       "2169  1982.099976     2023-03-20    GC=F        Gold    2023-03  \n",
       "2170  1969.000000     2023-03-27    GC=F        Gold    2023-03  \n",
       "2171  2011.900024     2023-04-03    GC=F        Gold    2023-04  \n",
       "2172  2041.300049     2023-04-10    GC=F        Gold    2023-04  \n",
       "\n",
       "[2173 rows x 10 columns]"
      ]
     },
     "execution_count": 13,
     "metadata": {},
     "output_type": "execute_result"
    }
   ],
   "source": [
    "companies_df = pd.read_csv('./dissertation_companies.csv')\n",
    "companies_df"
   ]
  },
  {
   "cell_type": "code",
   "execution_count": 3,
   "metadata": {},
   "outputs": [
    {
     "data": {
      "image/png": "[encoded data removed]",
      "text/plain": [
       "<Figure size 1080x360 with 1 Axes>"
      ]
     },
     "metadata": {
      "needs_background": "light"
     },
     "output_type": "display_data"
    },
    {
     "data": {
      "image/png": "[encoded data removed]",
      "text/plain": [
       "<Figure size 1080x360 with 1 Axes>"
      ]
     },
     "metadata": {
      "needs_background": "light"
     },
     "output_type": "display_data"
    },
    {
     "data": {
      "image/png": "[encoded data removed]",
      "text/plain": [
       "<Figure size 1080x360 with 1 Axes>"
      ]
     },
     "metadata": {
      "needs_background": "light"
     },
     "output_type": "display_data"
    },
    {
     "data": {
      "image/png": "[encoded data removed]",
      "text/plain": [
       "<Figure size 1080x360 with 1 Axes>"
      ]
     },
     "metadata": {
      "needs_background": "light"
     },
     "output_type": "display_data"
    },
    {
     "data": {
      "image/png": "[encoded data removed]",
      "text/plain": [
       "<Figure size 1080x360 with 1 Axes>"
      ]
     },
     "metadata": {
      "needs_background": "light"
     },
     "output_type": "display_data"
    }
   ],
   "source": [
    "for s in companies_df.Sector.unique():\n",
    "    sns.lineplot(data=companies_df[companies_df.Sector == s], x='Year_Month', \n",
    "                y='adjclose', hue='Company', ci=None)\n",
    "    plt.title(s)\n",
    "    plt.legend(bbox_to_anchor=(1.02, 1), loc='upper left', borderaxespad=0)\n",
    "    plt.ylabel('Adj Close') \n",
    "    plt.xlabel('Year and Month')\n",
    "    plt.xticks(rotation=75)\n",
    "    plt.show()"
   ]
  },
  {
   "attachments": {},
   "cell_type": "markdown",
   "metadata": {},
   "source": [
    "Storing the dataframe with the new columns. "
   ]
  },
  {
   "cell_type": "code",
   "execution_count": 99,
   "metadata": {},
   "outputs": [],
   "source": [
    "companies_df.to_csv('dissertation_companies.csv', index=None)"
   ]
  },
  {
   "attachments": {},
   "cell_type": "markdown",
   "metadata": {},
   "source": [
    "Which was the average price for each sector?"
   ]
  },
  {
   "cell_type": "code",
   "execution_count": 4,
   "metadata": {},
   "outputs": [
    {
     "data": {
      "image/png": "[encoded data removed]",
      "text/plain": [
       "<Figure size 1080x360 with 1 Axes>"
      ]
     },
     "metadata": {
      "needs_background": "light"
     },
     "output_type": "display_data"
    }
   ],
   "source": [
    "sector_mean_order = companies_df.groupby('Sector', as_index=False).adjclose.mean().sort_values('adjclose', ascending=False)['Sector'] \n",
    "\n",
    "sns.barplot(data=companies_df.groupby('Sector', as_index=False).adjclose.mean(),\n",
    "            x='Sector', \n",
    "            y='adjclose', \n",
    "            order=sector_mean_order,\n",
    "            )\n",
    "plt.yscale('log')\n",
    "plt.title('Average Adj Close per Sector') \n",
    "plt.ylabel('Adj Close Log Scale');"
   ]
  },
  {
   "attachments": {},
   "cell_type": "markdown",
   "metadata": {},
   "source": [
    "It is better to keep the y-axis on a log scale in order to obtain a better view of the results. "
   ]
  },
  {
   "attachments": {},
   "cell_type": "markdown",
   "metadata": {},
   "source": [
    "To compare the variation of each sector, it is necessary to compute the coefficients of variation."
   ]
  },
  {
   "attachments": {},
   "cell_type": "markdown",
   "metadata": {},
   "source": [
    "Standard deviations."
   ]
  },
  {
   "cell_type": "code",
   "execution_count": 9,
   "metadata": {},
   "outputs": [
    {
     "data": {
      "text/html": [
       "<div>\n",
       "<style scoped>\n",
       "    .dataframe tbody tr th:only-of-type {\n",
       "        vertical-align: middle;\n",
       "    }\n",
       "\n",
       "    .dataframe tbody tr th {\n",
       "        vertical-align: top;\n",
       "    }\n",
       "\n",
       "    .dataframe thead th {\n",
       "        text-align: right;\n",
       "    }\n",
       "</style>\n",
       "<table border=\"1\" class=\"dataframe\">\n",
       "  <thead>\n",
       "    <tr style=\"text-align: right;\">\n",
       "      <th></th>\n",
       "      <th>Sector</th>\n",
       "      <th>adjclose_std</th>\n",
       "    </tr>\n",
       "  </thead>\n",
       "  <tbody>\n",
       "    <tr>\n",
       "      <th>2</th>\n",
       "      <td>Financial Services</td>\n",
       "      <td>209.067384</td>\n",
       "    </tr>\n",
       "    <tr>\n",
       "      <th>3</th>\n",
       "      <td>Gold</td>\n",
       "      <td>101.717501</td>\n",
       "    </tr>\n",
       "    <tr>\n",
       "      <th>4</th>\n",
       "      <td>Technology</td>\n",
       "      <td>82.133885</td>\n",
       "    </tr>\n",
       "    <tr>\n",
       "      <th>0</th>\n",
       "      <td>Consumer Cyclical</td>\n",
       "      <td>65.649733</td>\n",
       "    </tr>\n",
       "    <tr>\n",
       "      <th>1</th>\n",
       "      <td>Energy &amp; Utilities</td>\n",
       "      <td>32.310573</td>\n",
       "    </tr>\n",
       "  </tbody>\n",
       "</table>\n",
       "</div>"
      ],
      "text/plain": [
       "               Sector  adjclose_std\n",
       "2  Financial Services    209.067384\n",
       "3                Gold    101.717501\n",
       "4          Technology     82.133885\n",
       "0   Consumer Cyclical     65.649733\n",
       "1  Energy & Utilities     32.310573"
      ]
     },
     "execution_count": 9,
     "metadata": {},
     "output_type": "execute_result"
    }
   ],
   "source": [
    "adj_close_std = companies_df.groupby('Sector', as_index=False).adjclose.std().sort_values('adjclose', ascending=False).rename(columns={'adjclose':'adjclose_std'})\n",
    "adj_close_std"
   ]
  },
  {
   "attachments": {},
   "cell_type": "markdown",
   "metadata": {},
   "source": [
    "Means."
   ]
  },
  {
   "cell_type": "code",
   "execution_count": 10,
   "metadata": {},
   "outputs": [
    {
     "data": {
      "text/html": [
       "<div>\n",
       "<style scoped>\n",
       "    .dataframe tbody tr th:only-of-type {\n",
       "        vertical-align: middle;\n",
       "    }\n",
       "\n",
       "    .dataframe tbody tr th {\n",
       "        vertical-align: top;\n",
       "    }\n",
       "\n",
       "    .dataframe thead th {\n",
       "        text-align: right;\n",
       "    }\n",
       "</style>\n",
       "<table border=\"1\" class=\"dataframe\">\n",
       "  <thead>\n",
       "    <tr style=\"text-align: right;\">\n",
       "      <th></th>\n",
       "      <th>Sector</th>\n",
       "      <th>adjclose_mean</th>\n",
       "    </tr>\n",
       "  </thead>\n",
       "  <tbody>\n",
       "    <tr>\n",
       "      <th>3</th>\n",
       "      <td>Gold</td>\n",
       "      <td>1812.015100</td>\n",
       "    </tr>\n",
       "    <tr>\n",
       "      <th>2</th>\n",
       "      <td>Financial Services</td>\n",
       "      <td>156.956059</td>\n",
       "    </tr>\n",
       "    <tr>\n",
       "      <th>4</th>\n",
       "      <td>Technology</td>\n",
       "      <td>130.528282</td>\n",
       "    </tr>\n",
       "    <tr>\n",
       "      <th>0</th>\n",
       "      <td>Consumer Cyclical</td>\n",
       "      <td>77.609913</td>\n",
       "    </tr>\n",
       "    <tr>\n",
       "      <th>1</th>\n",
       "      <td>Energy &amp; Utilities</td>\n",
       "      <td>51.842329</td>\n",
       "    </tr>\n",
       "  </tbody>\n",
       "</table>\n",
       "</div>"
      ],
      "text/plain": [
       "               Sector  adjclose_mean\n",
       "3                Gold    1812.015100\n",
       "2  Financial Services     156.956059\n",
       "4          Technology     130.528282\n",
       "0   Consumer Cyclical      77.609913\n",
       "1  Energy & Utilities      51.842329"
      ]
     },
     "execution_count": 10,
     "metadata": {},
     "output_type": "execute_result"
    }
   ],
   "source": [
    "adj_close_mean = companies_df.groupby('Sector', as_index=False).adjclose.mean().sort_values('adjclose', ascending=False).rename(columns={'adjclose':'adjclose_mean'})\n",
    "adj_close_mean"
   ]
  },
  {
   "attachments": {},
   "cell_type": "markdown",
   "metadata": {},
   "source": [
    "Merging them."
   ]
  },
  {
   "cell_type": "code",
   "execution_count": 12,
   "metadata": {},
   "outputs": [
    {
     "data": {
      "text/html": [
       "<div>\n",
       "<style scoped>\n",
       "    .dataframe tbody tr th:only-of-type {\n",
       "        vertical-align: middle;\n",
       "    }\n",
       "\n",
       "    .dataframe tbody tr th {\n",
       "        vertical-align: top;\n",
       "    }\n",
       "\n",
       "    .dataframe thead th {\n",
       "        text-align: right;\n",
       "    }\n",
       "</style>\n",
       "<table border=\"1\" class=\"dataframe\">\n",
       "  <thead>\n",
       "    <tr style=\"text-align: right;\">\n",
       "      <th></th>\n",
       "      <th>Sector</th>\n",
       "      <th>adjclose_std</th>\n",
       "      <th>adjclose_mean</th>\n",
       "    </tr>\n",
       "  </thead>\n",
       "  <tbody>\n",
       "    <tr>\n",
       "      <th>0</th>\n",
       "      <td>Financial Services</td>\n",
       "      <td>209.067384</td>\n",
       "      <td>156.956059</td>\n",
       "    </tr>\n",
       "    <tr>\n",
       "      <th>1</th>\n",
       "      <td>Gold</td>\n",
       "      <td>101.717501</td>\n",
       "      <td>1812.015100</td>\n",
       "    </tr>\n",
       "    <tr>\n",
       "      <th>2</th>\n",
       "      <td>Technology</td>\n",
       "      <td>82.133885</td>\n",
       "      <td>130.528282</td>\n",
       "    </tr>\n",
       "    <tr>\n",
       "      <th>3</th>\n",
       "      <td>Consumer Cyclical</td>\n",
       "      <td>65.649733</td>\n",
       "      <td>77.609913</td>\n",
       "    </tr>\n",
       "    <tr>\n",
       "      <th>4</th>\n",
       "      <td>Energy &amp; Utilities</td>\n",
       "      <td>32.310573</td>\n",
       "      <td>51.842329</td>\n",
       "    </tr>\n",
       "  </tbody>\n",
       "</table>\n",
       "</div>"
      ],
      "text/plain": [
       "               Sector  adjclose_std  adjclose_mean\n",
       "0  Financial Services    209.067384     156.956059\n",
       "1                Gold    101.717501    1812.015100\n",
       "2          Technology     82.133885     130.528282\n",
       "3   Consumer Cyclical     65.649733      77.609913\n",
       "4  Energy & Utilities     32.310573      51.842329"
      ]
     },
     "execution_count": 12,
     "metadata": {},
     "output_type": "execute_result"
    }
   ],
   "source": [
    "adj_close_var = adj_close_std.merge(adj_close_mean, on='Sector') \n",
    "adj_close_var"
   ]
  },
  {
   "attachments": {},
   "cell_type": "markdown",
   "metadata": {},
   "source": [
    "Coefficient of Variation Ratio: \n",
    "\n",
    "CV = std / mean"
   ]
  },
  {
   "cell_type": "code",
   "execution_count": 14,
   "metadata": {},
   "outputs": [
    {
     "data": {
      "text/html": [
       "<div>\n",
       "<style scoped>\n",
       "    .dataframe tbody tr th:only-of-type {\n",
       "        vertical-align: middle;\n",
       "    }\n",
       "\n",
       "    .dataframe tbody tr th {\n",
       "        vertical-align: top;\n",
       "    }\n",
       "\n",
       "    .dataframe thead th {\n",
       "        text-align: right;\n",
       "    }\n",
       "</style>\n",
       "<table border=\"1\" class=\"dataframe\">\n",
       "  <thead>\n",
       "    <tr style=\"text-align: right;\">\n",
       "      <th></th>\n",
       "      <th>Sector</th>\n",
       "      <th>adjclose_std</th>\n",
       "      <th>adjclose_mean</th>\n",
       "      <th>adjclose_cv</th>\n",
       "    </tr>\n",
       "  </thead>\n",
       "  <tbody>\n",
       "    <tr>\n",
       "      <th>0</th>\n",
       "      <td>Financial Services</td>\n",
       "      <td>209.067384</td>\n",
       "      <td>156.956059</td>\n",
       "      <td>1.332012</td>\n",
       "    </tr>\n",
       "    <tr>\n",
       "      <th>1</th>\n",
       "      <td>Gold</td>\n",
       "      <td>101.717501</td>\n",
       "      <td>1812.015100</td>\n",
       "      <td>0.056135</td>\n",
       "    </tr>\n",
       "    <tr>\n",
       "      <th>2</th>\n",
       "      <td>Technology</td>\n",
       "      <td>82.133885</td>\n",
       "      <td>130.528282</td>\n",
       "      <td>0.629242</td>\n",
       "    </tr>\n",
       "    <tr>\n",
       "      <th>3</th>\n",
       "      <td>Consumer Cyclical</td>\n",
       "      <td>65.649733</td>\n",
       "      <td>77.609913</td>\n",
       "      <td>0.845894</td>\n",
       "    </tr>\n",
       "    <tr>\n",
       "      <th>4</th>\n",
       "      <td>Energy &amp; Utilities</td>\n",
       "      <td>32.310573</td>\n",
       "      <td>51.842329</td>\n",
       "      <td>0.623247</td>\n",
       "    </tr>\n",
       "  </tbody>\n",
       "</table>\n",
       "</div>"
      ],
      "text/plain": [
       "               Sector  adjclose_std  adjclose_mean  adjclose_cv\n",
       "0  Financial Services    209.067384     156.956059     1.332012\n",
       "1                Gold    101.717501    1812.015100     0.056135\n",
       "2          Technology     82.133885     130.528282     0.629242\n",
       "3   Consumer Cyclical     65.649733      77.609913     0.845894\n",
       "4  Energy & Utilities     32.310573      51.842329     0.623247"
      ]
     },
     "execution_count": 14,
     "metadata": {},
     "output_type": "execute_result"
    }
   ],
   "source": [
    "adj_close_var['adjclose_cv'] = adj_close_var['adjclose_std'] / adj_close_var['adjclose_mean']\n",
    "adj_close_var"
   ]
  },
  {
   "attachments": {},
   "cell_type": "markdown",
   "metadata": {},
   "source": [
    "Plotting the coefficients of variation."
   ]
  },
  {
   "cell_type": "code",
   "execution_count": 27,
   "metadata": {},
   "outputs": [
    {
     "data": {
      "image/png": "[encoded data removed]",
      "text/plain": [
       "<Figure size 1440x576 with 2 Axes>"
      ]
     },
     "metadata": {
      "needs_background": "light"
     },
     "output_type": "display_data"
    }
   ],
   "source": [
    "fig, ax = plt.subplots(1,2, figsize=(20,8)) \n",
    "\n",
    "ax[0].set_title('Adj Close Standard Deviation per Sector')\n",
    "ax[0].set_xticklabels(list(adj_close_var.sort_values('adjclose_std', ascending=False).Sector), rotation=75)\n",
    "sns.barplot(data=adj_close_var, x='Sector', y='adjclose_std', \n",
    "            order=adj_close_var.sort_values('adjclose_std', ascending=False).Sector,\n",
    "            ax=ax[0])\n",
    "\n",
    "ax[1].set_title('Adj Close Coefficient of Variation per Sector')\n",
    "ax[1].set_xticklabels(list(adj_close_var.sort_values('adjclose_cv', ascending=False).Sector), rotation=75)\n",
    "sns.barplot(data=adj_close_var, x='Sector', y='adjclose_cv', \n",
    "            order=adj_close_var.sort_values('adjclose_cv', ascending=False).Sector,\n",
    "            ax=ax[1]);\n"
   ]
  },
  {
   "attachments": {},
   "cell_type": "markdown",
   "metadata": {},
   "source": [
    "## Companies' Analysis"
   ]
  },
  {
   "attachments": {},
   "cell_type": "markdown",
   "metadata": {},
   "source": [
    "### Coefficient of Variation "
   ]
  },
  {
   "attachments": {},
   "cell_type": "markdown",
   "metadata": {},
   "source": [
    "Computing the standard deviation for each company. "
   ]
  },
  {
   "cell_type": "code",
   "execution_count": 4,
   "metadata": {},
   "outputs": [
    {
     "name": "stdout",
     "output_type": "stream",
     "text": [
      "<class 'pandas.core.frame.DataFrame'>\n",
      "RangeIndex: 41 entries, 0 to 40\n",
      "Data columns (total 2 columns):\n",
      " #   Column        Non-Null Count  Dtype  \n",
      "---  ------        --------------  -----  \n",
      " 0   Company       41 non-null     object \n",
      " 1   adjclose_std  41 non-null     float64\n",
      "dtypes: float64(1), object(1)\n",
      "memory usage: 784.0+ bytes\n"
     ]
    }
   ],
   "source": [
    "companies_std = companies_df.groupby('Company', as_index=False).adjclose.std().rename(columns={'adjclose':'adjclose_std'})\n",
    "companies_std.info()"
   ]
  },
  {
   "attachments": {},
   "cell_type": "markdown",
   "metadata": {},
   "source": [
    "Computing the mean for each company.  "
   ]
  },
  {
   "cell_type": "code",
   "execution_count": 5,
   "metadata": {},
   "outputs": [
    {
     "name": "stdout",
     "output_type": "stream",
     "text": [
      "<class 'pandas.core.frame.DataFrame'>\n",
      "RangeIndex: 41 entries, 0 to 40\n",
      "Data columns (total 2 columns):\n",
      " #   Column         Non-Null Count  Dtype  \n",
      "---  ------         --------------  -----  \n",
      " 0   Company        41 non-null     object \n",
      " 1   adjclose_mean  41 non-null     float64\n",
      "dtypes: float64(1), object(1)\n",
      "memory usage: 784.0+ bytes\n"
     ]
    }
   ],
   "source": [
    "companies_mean = companies_df.groupby('Company', as_index=False).adjclose.mean().rename(columns={'adjclose':'adjclose_mean'})\n",
    "companies_mean.info()"
   ]
  },
  {
   "attachments": {},
   "cell_type": "markdown",
   "metadata": {},
   "source": [
    "Merging the two dataframes."
   ]
  },
  {
   "cell_type": "code",
   "execution_count": 6,
   "metadata": {},
   "outputs": [
    {
     "data": {
      "text/html": [
       "<div>\n",
       "<style scoped>\n",
       "    .dataframe tbody tr th:only-of-type {\n",
       "        vertical-align: middle;\n",
       "    }\n",
       "\n",
       "    .dataframe tbody tr th {\n",
       "        vertical-align: top;\n",
       "    }\n",
       "\n",
       "    .dataframe thead th {\n",
       "        text-align: right;\n",
       "    }\n",
       "</style>\n",
       "<table border=\"1\" class=\"dataframe\">\n",
       "  <thead>\n",
       "    <tr style=\"text-align: right;\">\n",
       "      <th></th>\n",
       "      <th>Company</th>\n",
       "      <th>adjclose_std</th>\n",
       "      <th>adjclose_mean</th>\n",
       "    </tr>\n",
       "  </thead>\n",
       "  <tbody>\n",
       "    <tr>\n",
       "      <th>0</th>\n",
       "      <td>AAPL</td>\n",
       "      <td>10.927279</td>\n",
       "      <td>149.171844</td>\n",
       "    </tr>\n",
       "    <tr>\n",
       "      <th>1</th>\n",
       "      <td>ABNB</td>\n",
       "      <td>16.735984</td>\n",
       "      <td>112.405472</td>\n",
       "    </tr>\n",
       "    <tr>\n",
       "      <th>2</th>\n",
       "      <td>ACN</td>\n",
       "      <td>16.753241</td>\n",
       "      <td>280.207211</td>\n",
       "    </tr>\n",
       "    <tr>\n",
       "      <th>3</th>\n",
       "      <td>AMZN</td>\n",
       "      <td>16.852513</td>\n",
       "      <td>109.730434</td>\n",
       "    </tr>\n",
       "    <tr>\n",
       "      <th>4</th>\n",
       "      <td>BABA</td>\n",
       "      <td>13.486969</td>\n",
       "      <td>92.948868</td>\n",
       "    </tr>\n",
       "  </tbody>\n",
       "</table>\n",
       "</div>"
      ],
      "text/plain": [
       "  Company  adjclose_std  adjclose_mean\n",
       "0    AAPL     10.927279     149.171844\n",
       "1    ABNB     16.735984     112.405472\n",
       "2     ACN     16.753241     280.207211\n",
       "3    AMZN     16.852513     109.730434\n",
       "4    BABA     13.486969      92.948868"
      ]
     },
     "execution_count": 6,
     "metadata": {},
     "output_type": "execute_result"
    }
   ],
   "source": [
    "companies_std_mean = companies_std.merge(companies_mean, on='Company')\n",
    "companies_std_mean.head()"
   ]
  },
  {
   "attachments": {},
   "cell_type": "markdown",
   "metadata": {},
   "source": [
    "Computing the coefficient of variation."
   ]
  },
  {
   "cell_type": "code",
   "execution_count": 7,
   "metadata": {},
   "outputs": [
    {
     "data": {
      "text/html": [
       "<div>\n",
       "<style scoped>\n",
       "    .dataframe tbody tr th:only-of-type {\n",
       "        vertical-align: middle;\n",
       "    }\n",
       "\n",
       "    .dataframe tbody tr th {\n",
       "        vertical-align: top;\n",
       "    }\n",
       "\n",
       "    .dataframe thead th {\n",
       "        text-align: right;\n",
       "    }\n",
       "</style>\n",
       "<table border=\"1\" class=\"dataframe\">\n",
       "  <thead>\n",
       "    <tr style=\"text-align: right;\">\n",
       "      <th></th>\n",
       "      <th>Company</th>\n",
       "      <th>adjclose_std</th>\n",
       "      <th>adjclose_mean</th>\n",
       "      <th>adjclose_coefficient_of_variation</th>\n",
       "    </tr>\n",
       "  </thead>\n",
       "  <tbody>\n",
       "    <tr>\n",
       "      <th>0</th>\n",
       "      <td>AAPL</td>\n",
       "      <td>10.927279</td>\n",
       "      <td>149.171844</td>\n",
       "      <td>0.073253</td>\n",
       "    </tr>\n",
       "    <tr>\n",
       "      <th>1</th>\n",
       "      <td>ABNB</td>\n",
       "      <td>16.735984</td>\n",
       "      <td>112.405472</td>\n",
       "      <td>0.148889</td>\n",
       "    </tr>\n",
       "    <tr>\n",
       "      <th>2</th>\n",
       "      <td>ACN</td>\n",
       "      <td>16.753241</td>\n",
       "      <td>280.207211</td>\n",
       "      <td>0.059789</td>\n",
       "    </tr>\n",
       "    <tr>\n",
       "      <th>3</th>\n",
       "      <td>AMZN</td>\n",
       "      <td>16.852513</td>\n",
       "      <td>109.730434</td>\n",
       "      <td>0.153581</td>\n",
       "    </tr>\n",
       "    <tr>\n",
       "      <th>4</th>\n",
       "      <td>BABA</td>\n",
       "      <td>13.486969</td>\n",
       "      <td>92.948868</td>\n",
       "      <td>0.145101</td>\n",
       "    </tr>\n",
       "  </tbody>\n",
       "</table>\n",
       "</div>"
      ],
      "text/plain": [
       "  Company  adjclose_std  adjclose_mean  adjclose_coefficient_of_variation\n",
       "0    AAPL     10.927279     149.171844                           0.073253\n",
       "1    ABNB     16.735984     112.405472                           0.148889\n",
       "2     ACN     16.753241     280.207211                           0.059789\n",
       "3    AMZN     16.852513     109.730434                           0.153581\n",
       "4    BABA     13.486969      92.948868                           0.145101"
      ]
     },
     "execution_count": 7,
     "metadata": {},
     "output_type": "execute_result"
    }
   ],
   "source": [
    "companies_std_mean['adjclose_coefficient_of_variation'] = companies_std_mean.adjclose_std / companies_std_mean.adjclose_mean \n",
    "companies_std_mean.head()"
   ]
  },
  {
   "attachments": {},
   "cell_type": "markdown",
   "metadata": {},
   "source": [
    "Showing the coefficient of variation for each company."
   ]
  },
  {
   "cell_type": "code",
   "execution_count": 8,
   "metadata": {},
   "outputs": [
    {
     "data": {
      "image/png": "[encoded data removed]",
      "text/plain": [
       "<Figure size 1080x360 with 1 Axes>"
      ]
     },
     "metadata": {
      "needs_background": "light"
     },
     "output_type": "display_data"
    }
   ],
   "source": [
    "cv_order = companies_std_mean.sort_values('adjclose_coefficient_of_variation', ascending=False).set_index('Company').index \n",
    "\n",
    "sns.barplot(data=companies_std_mean, x='Company', y='adjclose_coefficient_of_variation', order=cv_order)\n",
    "plt.xticks(rotation=75)\n",
    "plt.title('Companies Coefficient of Variation');"
   ]
  },
  {
   "attachments": {},
   "cell_type": "markdown",
   "metadata": {},
   "source": [
    "### Kurtosis   \n",
    "\n",
    "Since the Kurtosis function cannot be applied with groupby, some further steps are necessary. "
   ]
  },
  {
   "cell_type": "code",
   "execution_count": 11,
   "metadata": {},
   "outputs": [
    {
     "data": {
      "text/html": [
       "<div>\n",
       "<style scoped>\n",
       "    .dataframe tbody tr th:only-of-type {\n",
       "        vertical-align: middle;\n",
       "    }\n",
       "\n",
       "    .dataframe tbody tr th {\n",
       "        vertical-align: top;\n",
       "    }\n",
       "\n",
       "    .dataframe thead th {\n",
       "        text-align: right;\n",
       "    }\n",
       "</style>\n",
       "<table border=\"1\" class=\"dataframe\">\n",
       "  <thead>\n",
       "    <tr style=\"text-align: right;\">\n",
       "      <th></th>\n",
       "      <th>adjclose_kurtosis</th>\n",
       "    </tr>\n",
       "  </thead>\n",
       "  <tbody>\n",
       "    <tr>\n",
       "      <th>AAPL</th>\n",
       "      <td>-0.720697</td>\n",
       "    </tr>\n",
       "    <tr>\n",
       "      <th>MSFT</th>\n",
       "      <td>-0.769125</td>\n",
       "    </tr>\n",
       "    <tr>\n",
       "      <th>IBM</th>\n",
       "      <td>-0.384639</td>\n",
       "    </tr>\n",
       "    <tr>\n",
       "      <th>SAP</th>\n",
       "      <td>-0.913323</td>\n",
       "    </tr>\n",
       "    <tr>\n",
       "      <th>CRM</th>\n",
       "      <td>-0.787655</td>\n",
       "    </tr>\n",
       "  </tbody>\n",
       "</table>\n",
       "</div>"
      ],
      "text/plain": [
       "      adjclose_kurtosis\n",
       "AAPL          -0.720697\n",
       "MSFT          -0.769125\n",
       "IBM           -0.384639\n",
       "SAP           -0.913323\n",
       "CRM           -0.787655"
      ]
     },
     "execution_count": 11,
     "metadata": {},
     "output_type": "execute_result"
    }
   ],
   "source": [
    "# Creating a separate dictionary to store the values \n",
    "kurts = {} \n",
    "\n",
    "# Using a for loop to store the values inside the dictionary \n",
    "for t in tickers: \n",
    "    k = companies_df[companies_df.Company == t].adjclose.kurtosis()\n",
    "    kurts[t] = k \n",
    "\n",
    "# Storing the results into a pandas Dataframe  \n",
    "kurtosis_df = pd.DataFrame([kurts], index=['adjclose_kurtosis']).T \n",
    "\n",
    "# Showing the result \n",
    "kurtosis_df.head()"
   ]
  },
  {
   "attachments": {},
   "cell_type": "markdown",
   "metadata": {},
   "source": [
    "Checking the Kurtosis for each company."
   ]
  },
  {
   "cell_type": "code",
   "execution_count": 12,
   "metadata": {},
   "outputs": [
    {
     "data": {
      "image/png": "[encoded data removed]",
      "text/plain": [
       "<Figure size 1080x360 with 1 Axes>"
      ]
     },
     "metadata": {
      "needs_background": "light"
     },
     "output_type": "display_data"
    }
   ],
   "source": [
    "kurtosis_order = kurtosis_df.sort_values('adjclose_kurtosis', ascending=False).index \n",
    "\n",
    "sns.barplot(data=kurtosis_df, x=kurtosis_df.index, y='adjclose_kurtosis', order=kurtosis_order)\n",
    "plt.xticks(rotation=75)\n",
    "plt.title('Companies Kurtosis');"
   ]
  },
  {
   "attachments": {},
   "cell_type": "markdown",
   "metadata": {},
   "source": [
    "### Sentiment Analysis  \n",
    "\n",
    "This is probably the longest part of the analysis. It will include two steps:  \n",
    "1. Data Gathering   \n",
    "2. Sentiment Analysis"
   ]
  },
  {
   "attachments": {},
   "cell_type": "markdown",
   "metadata": {},
   "source": [
    "Importing libraries"
   ]
  },
  {
   "cell_type": "code",
   "execution_count": 67,
   "metadata": {},
   "outputs": [],
   "source": [
    "import requests \n",
    "from bs4 import BeautifulSoup \n",
    "import re"
   ]
  },
  {
   "attachments": {},
   "cell_type": "markdown",
   "metadata": {},
   "source": [
    "Workflow example using Apple"
   ]
  },
  {
   "cell_type": "code",
   "execution_count": 73,
   "metadata": {},
   "outputs": [
    {
     "data": {
      "text/plain": [
       "[['What leaders are saying about the economy in the SVB aftermath: Morning Brief'],\n",
       " ['Are There Rough Waters Ahead On Tech Earnings Calendar?']]"
      ]
     },
     "execution_count": 73,
     "metadata": {},
     "output_type": "execute_result"
    }
   ],
   "source": [
    "# Defining the user agent \n",
    "user_agent = 'Mozilla/5.0 (Windows NT 10.0; Win64; x64) AppleWebKit/537.36 (KHTML, like Gecko) Chrome/111.0.0.0 Safari/537.36'  \n",
    "\n",
    "# Defining the URL \n",
    "comp = 'AAPL' \n",
    "url = 'https://finviz.com/quote.ashx?t={}&p=d'.format(comp) \n",
    "request = requests.get(url, headers={'User-Agent':user_agent})\n",
    "\n",
    "# Scraping the website \n",
    "parser = BeautifulSoup(request.text, 'html.parser') \n",
    "news_html = parser.find_all('a',{'class':'tab-link-news'})\n",
    "news_html[:2]\n",
    "\n",
    "# Selecting only the headers' texts using regular expressions\n",
    "regex = \"target=\\\"_blank\\\"\\>(.*)\\<\\/a\\>\"\n",
    "regex_news = [re.findall(regex, str(sentence)) for sentence in news_html]\n",
    "regex_news[:2]  "
   ]
  },
  {
   "cell_type": "code",
   "execution_count": 78,
   "metadata": {},
   "outputs": [
    {
     "data": {
      "text/html": [
       "<div>\n",
       "<style scoped>\n",
       "    .dataframe tbody tr th:only-of-type {\n",
       "        vertical-align: middle;\n",
       "    }\n",
       "\n",
       "    .dataframe tbody tr th {\n",
       "        vertical-align: top;\n",
       "    }\n",
       "\n",
       "    .dataframe thead th {\n",
       "        text-align: right;\n",
       "    }\n",
       "</style>\n",
       "<table border=\"1\" class=\"dataframe\">\n",
       "  <thead>\n",
       "    <tr style=\"text-align: right;\">\n",
       "      <th></th>\n",
       "      <th>Company</th>\n",
       "      <th>News</th>\n",
       "    </tr>\n",
       "  </thead>\n",
       "  <tbody>\n",
       "    <tr>\n",
       "      <th>0</th>\n",
       "      <td>AAPL</td>\n",
       "      <td>What leaders are saying about the economy in t...</td>\n",
       "    </tr>\n",
       "    <tr>\n",
       "      <th>1</th>\n",
       "      <td>AAPL</td>\n",
       "      <td>Are There Rough Waters Ahead On Tech Earnings ...</td>\n",
       "    </tr>\n",
       "    <tr>\n",
       "      <th>2</th>\n",
       "      <td>AAPL</td>\n",
       "      <td>Apple Plans iPhone Journaling App in Expansion...</td>\n",
       "    </tr>\n",
       "    <tr>\n",
       "      <th>3</th>\n",
       "      <td>AAPL</td>\n",
       "      <td>Apple Pays Long Road to Paying Off Is Getting ...</td>\n",
       "    </tr>\n",
       "    <tr>\n",
       "      <th>4</th>\n",
       "      <td>AAPL</td>\n",
       "      <td>3 Red Flags for Alphabet's Future</td>\n",
       "    </tr>\n",
       "  </tbody>\n",
       "</table>\n",
       "</div>"
      ],
      "text/plain": [
       "  Company                                               News\n",
       "0    AAPL  What leaders are saying about the economy in t...\n",
       "1    AAPL  Are There Rough Waters Ahead On Tech Earnings ...\n",
       "2    AAPL  Apple Plans iPhone Journaling App in Expansion...\n",
       "3    AAPL  Apple Pays Long Road to Paying Off Is Getting ...\n",
       "4    AAPL                  3 Red Flags for Alphabet's Future"
      ]
     },
     "execution_count": 78,
     "metadata": {},
     "output_type": "execute_result"
    }
   ],
   "source": [
    "# Storing news into a dictionary \n",
    "news_dict = {} \n",
    "news_list = [] \n",
    "\n",
    "for x in regex_news:\n",
    "    news_list.append(x[0])\n",
    "\n",
    "news_dict['Company'] = comp \n",
    "news_dict['News'] = news_list \n",
    "\n",
    "pd.DataFrame(news_dict).head()"
   ]
  },
  {
   "attachments": {},
   "cell_type": "markdown",
   "metadata": {},
   "source": [
    "Now it is necessary to apply this to all the news included in the analysis. "
   ]
  },
  {
   "cell_type": "code",
   "execution_count": 80,
   "metadata": {},
   "outputs": [],
   "source": [
    "def news_gathering(company):  \n",
    "    try: \n",
    "        user_agent = 'Mozilla/5.0 (Windows NT 10.0; Win64; x64) AppleWebKit/537.36 (KHTML, like Gecko) Chrome/111.0.0.0 Safari/537.36'  \n",
    "\n",
    "        comp = company\n",
    "        url = 'https://finviz.com/quote.ashx?t={}&p=d'.format(comp) \n",
    "        request = requests.get(url, headers={'User-Agent':user_agent})\n",
    "\n",
    "        parser = BeautifulSoup(request.text, 'html.parser') \n",
    "        news_html = parser.find_all('a',{'class':'tab-link-news'})\n",
    "\n",
    "        regex = \"target=\\\"_blank\\\"\\>(.*)\\<\\/a\\>\"\n",
    "        regex_news = [re.findall(regex, str(sentence)) for sentence in news_html]\n",
    "\n",
    "        news_dict={}\n",
    "        news_list=[]\n",
    "\n",
    "        for x in regex_news: \n",
    "            news_list.append(x[0])\n",
    "        \n",
    "        news_dict['Company'] = comp \n",
    "        news_dict['News'] = news_list\n",
    "\n",
    "        final_news_df = pd.DataFrame(news_dict) \n",
    "\n",
    "        return final_news_df  \n",
    "    except: \n",
    "        None "
   ]
  },
  {
   "cell_type": "code",
   "execution_count": 82,
   "metadata": {},
   "outputs": [
    {
     "data": {
      "text/html": [
       "<div>\n",
       "<style scoped>\n",
       "    .dataframe tbody tr th:only-of-type {\n",
       "        vertical-align: middle;\n",
       "    }\n",
       "\n",
       "    .dataframe tbody tr th {\n",
       "        vertical-align: top;\n",
       "    }\n",
       "\n",
       "    .dataframe thead th {\n",
       "        text-align: right;\n",
       "    }\n",
       "</style>\n",
       "<table border=\"1\" class=\"dataframe\">\n",
       "  <thead>\n",
       "    <tr style=\"text-align: right;\">\n",
       "      <th></th>\n",
       "      <th>Company</th>\n",
       "      <th>News</th>\n",
       "    </tr>\n",
       "  </thead>\n",
       "  <tbody>\n",
       "    <tr>\n",
       "      <th>0</th>\n",
       "      <td>AAPL</td>\n",
       "      <td>What leaders are saying about the economy in t...</td>\n",
       "    </tr>\n",
       "    <tr>\n",
       "      <th>1</th>\n",
       "      <td>AAPL</td>\n",
       "      <td>Are There Rough Waters Ahead On Tech Earnings ...</td>\n",
       "    </tr>\n",
       "    <tr>\n",
       "      <th>2</th>\n",
       "      <td>AAPL</td>\n",
       "      <td>Apple Plans iPhone Journaling App in Expansion...</td>\n",
       "    </tr>\n",
       "    <tr>\n",
       "      <th>3</th>\n",
       "      <td>AAPL</td>\n",
       "      <td>Apple Pays Long Road to Paying Off Is Getting ...</td>\n",
       "    </tr>\n",
       "    <tr>\n",
       "      <th>4</th>\n",
       "      <td>AAPL</td>\n",
       "      <td>3 Red Flags for Alphabet's Future</td>\n",
       "    </tr>\n",
       "    <tr>\n",
       "      <th>...</th>\n",
       "      <td>...</td>\n",
       "      <td>...</td>\n",
       "    </tr>\n",
       "    <tr>\n",
       "      <th>95</th>\n",
       "      <td>BABA</td>\n",
       "      <td>Dow Futures: Market Rally Rebounds Into Jobs R...</td>\n",
       "    </tr>\n",
       "    <tr>\n",
       "      <th>96</th>\n",
       "      <td>BABA</td>\n",
       "      <td>China's Alibaba invites businesses to trial AI...</td>\n",
       "    </tr>\n",
       "    <tr>\n",
       "      <th>97</th>\n",
       "      <td>BABA</td>\n",
       "      <td>Alibaba Touts ChatGPT Challenger Ahead of Main...</td>\n",
       "    </tr>\n",
       "    <tr>\n",
       "      <th>98</th>\n",
       "      <td>BABA</td>\n",
       "      <td>Why Shares of Alibaba Are Rising Today</td>\n",
       "    </tr>\n",
       "    <tr>\n",
       "      <th>99</th>\n",
       "      <td>BABA</td>\n",
       "      <td>Alibaba-Huawei Inch Closer To ChatGPT Counterp...</td>\n",
       "    </tr>\n",
       "  </tbody>\n",
       "</table>\n",
       "<p>3949 rows × 2 columns</p>\n",
       "</div>"
      ],
      "text/plain": [
       "   Company                                               News\n",
       "0     AAPL  What leaders are saying about the economy in t...\n",
       "1     AAPL  Are There Rough Waters Ahead On Tech Earnings ...\n",
       "2     AAPL  Apple Plans iPhone Journaling App in Expansion...\n",
       "3     AAPL  Apple Pays Long Road to Paying Off Is Getting ...\n",
       "4     AAPL                  3 Red Flags for Alphabet's Future\n",
       "..     ...                                                ...\n",
       "95    BABA  Dow Futures: Market Rally Rebounds Into Jobs R...\n",
       "96    BABA  China's Alibaba invites businesses to trial AI...\n",
       "97    BABA  Alibaba Touts ChatGPT Challenger Ahead of Main...\n",
       "98    BABA             Why Shares of Alibaba Are Rising Today\n",
       "99    BABA  Alibaba-Huawei Inch Closer To ChatGPT Counterp...\n",
       "\n",
       "[3949 rows x 2 columns]"
      ]
     },
     "execution_count": 82,
     "metadata": {},
     "output_type": "execute_result"
    }
   ],
   "source": [
    "# Creating an empty pandas Dataframe \n",
    "companies_news = pd.DataFrame() \n",
    "\n",
    "#Storing them \n",
    "for c in tickers: \n",
    "    c_news = news_gathering(c) \n",
    "    companies_news = pd.concat([companies_news, c_news]) \n",
    "\n",
    "# Result \n",
    "companies_news"
   ]
  },
  {
   "cell_type": "code",
   "execution_count": 86,
   "metadata": {},
   "outputs": [
    {
     "data": {
      "text/html": [
       "<div>\n",
       "<style scoped>\n",
       "    .dataframe tbody tr th:only-of-type {\n",
       "        vertical-align: middle;\n",
       "    }\n",
       "\n",
       "    .dataframe tbody tr th {\n",
       "        vertical-align: top;\n",
       "    }\n",
       "\n",
       "    .dataframe thead th {\n",
       "        text-align: right;\n",
       "    }\n",
       "</style>\n",
       "<table border=\"1\" class=\"dataframe\">\n",
       "  <thead>\n",
       "    <tr style=\"text-align: right;\">\n",
       "      <th></th>\n",
       "      <th>Company</th>\n",
       "      <th>News</th>\n",
       "    </tr>\n",
       "  </thead>\n",
       "  <tbody>\n",
       "    <tr>\n",
       "      <th>0</th>\n",
       "      <td>AAPL</td>\n",
       "      <td>What leaders are saying about the economy in t...</td>\n",
       "    </tr>\n",
       "    <tr>\n",
       "      <th>1</th>\n",
       "      <td>AAPL</td>\n",
       "      <td>Are There Rough Waters Ahead On Tech Earnings ...</td>\n",
       "    </tr>\n",
       "    <tr>\n",
       "      <th>2</th>\n",
       "      <td>AAPL</td>\n",
       "      <td>Apple Plans iPhone Journaling App in Expansion...</td>\n",
       "    </tr>\n",
       "    <tr>\n",
       "      <th>3</th>\n",
       "      <td>AAPL</td>\n",
       "      <td>Apple Pays Long Road to Paying Off Is Getting ...</td>\n",
       "    </tr>\n",
       "    <tr>\n",
       "      <th>4</th>\n",
       "      <td>AAPL</td>\n",
       "      <td>3 Red Flags for Alphabet's Future</td>\n",
       "    </tr>\n",
       "    <tr>\n",
       "      <th>...</th>\n",
       "      <td>...</td>\n",
       "      <td>...</td>\n",
       "    </tr>\n",
       "    <tr>\n",
       "      <th>3944</th>\n",
       "      <td>BABA</td>\n",
       "      <td>Dow Futures: Market Rally Rebounds Into Jobs R...</td>\n",
       "    </tr>\n",
       "    <tr>\n",
       "      <th>3945</th>\n",
       "      <td>BABA</td>\n",
       "      <td>China's Alibaba invites businesses to trial AI...</td>\n",
       "    </tr>\n",
       "    <tr>\n",
       "      <th>3946</th>\n",
       "      <td>BABA</td>\n",
       "      <td>Alibaba Touts ChatGPT Challenger Ahead of Main...</td>\n",
       "    </tr>\n",
       "    <tr>\n",
       "      <th>3947</th>\n",
       "      <td>BABA</td>\n",
       "      <td>Why Shares of Alibaba Are Rising Today</td>\n",
       "    </tr>\n",
       "    <tr>\n",
       "      <th>3948</th>\n",
       "      <td>BABA</td>\n",
       "      <td>Alibaba-Huawei Inch Closer To ChatGPT Counterp...</td>\n",
       "    </tr>\n",
       "  </tbody>\n",
       "</table>\n",
       "<p>3949 rows × 2 columns</p>\n",
       "</div>"
      ],
      "text/plain": [
       "     Company                                               News\n",
       "0       AAPL  What leaders are saying about the economy in t...\n",
       "1       AAPL  Are There Rough Waters Ahead On Tech Earnings ...\n",
       "2       AAPL  Apple Plans iPhone Journaling App in Expansion...\n",
       "3       AAPL  Apple Pays Long Road to Paying Off Is Getting ...\n",
       "4       AAPL                  3 Red Flags for Alphabet's Future\n",
       "...      ...                                                ...\n",
       "3944    BABA  Dow Futures: Market Rally Rebounds Into Jobs R...\n",
       "3945    BABA  China's Alibaba invites businesses to trial AI...\n",
       "3946    BABA  Alibaba Touts ChatGPT Challenger Ahead of Main...\n",
       "3947    BABA             Why Shares of Alibaba Are Rising Today\n",
       "3948    BABA  Alibaba-Huawei Inch Closer To ChatGPT Counterp...\n",
       "\n",
       "[3949 rows x 2 columns]"
      ]
     },
     "execution_count": 86,
     "metadata": {},
     "output_type": "execute_result"
    }
   ],
   "source": [
    "companies_news = companies_news.reset_index().drop(columns='index')\n",
    "companies_news"
   ]
  },
  {
   "attachments": {},
   "cell_type": "markdown",
   "metadata": {},
   "source": [
    "Checking missing companies."
   ]
  },
  {
   "cell_type": "code",
   "execution_count": 88,
   "metadata": {},
   "outputs": [
    {
     "name": "stdout",
     "output_type": "stream",
     "text": [
      "GC=F\n"
     ]
    }
   ],
   "source": [
    "for x in tickers: \n",
    "    if x not in companies_news.Company.unique():\n",
    "        print(x)"
   ]
  },
  {
   "attachments": {},
   "cell_type": "markdown",
   "metadata": {},
   "source": [
    "The only missing values are those about gold. This was predictable since it is not a company and news about it are not so frequent.  \n",
    "Now, storing the results is necessary in order to always work with the same news. "
   ]
  },
  {
   "cell_type": "code",
   "execution_count": 89,
   "metadata": {},
   "outputs": [],
   "source": [
    "companies_news.to_csv('company_news.csv', index=None)"
   ]
  },
  {
   "cell_type": "code",
   "execution_count": 2,
   "metadata": {},
   "outputs": [
    {
     "data": {
      "text/html": [
       "<div>\n",
       "<style scoped>\n",
       "    .dataframe tbody tr th:only-of-type {\n",
       "        vertical-align: middle;\n",
       "    }\n",
       "\n",
       "    .dataframe tbody tr th {\n",
       "        vertical-align: top;\n",
       "    }\n",
       "\n",
       "    .dataframe thead th {\n",
       "        text-align: right;\n",
       "    }\n",
       "</style>\n",
       "<table border=\"1\" class=\"dataframe\">\n",
       "  <thead>\n",
       "    <tr style=\"text-align: right;\">\n",
       "      <th></th>\n",
       "      <th>Company</th>\n",
       "      <th>News</th>\n",
       "      <th>roberta_scores</th>\n",
       "      <th>rob_neg</th>\n",
       "      <th>rob_neu</th>\n",
       "      <th>rob_pos</th>\n",
       "    </tr>\n",
       "  </thead>\n",
       "  <tbody>\n",
       "    <tr>\n",
       "      <th>0</th>\n",
       "      <td>AAPL</td>\n",
       "      <td>What leaders are saying about the economy in t...</td>\n",
       "      <td>{'negative_score': 0.019849356, 'neutral_score...</td>\n",
       "      <td>0.019849</td>\n",
       "      <td>0.944306</td>\n",
       "      <td>0.035845</td>\n",
       "    </tr>\n",
       "    <tr>\n",
       "      <th>1</th>\n",
       "      <td>AAPL</td>\n",
       "      <td>Are There Rough Waters Ahead On Tech Earnings ...</td>\n",
       "      <td>{'negative_score': 0.14316593, 'neutral_score'...</td>\n",
       "      <td>0.143166</td>\n",
       "      <td>0.834439</td>\n",
       "      <td>0.022395</td>\n",
       "    </tr>\n",
       "    <tr>\n",
       "      <th>2</th>\n",
       "      <td>AAPL</td>\n",
       "      <td>Apple Plans iPhone Journaling App in Expansion...</td>\n",
       "      <td>{'negative_score': 0.0076362663, 'neutral_scor...</td>\n",
       "      <td>0.007636</td>\n",
       "      <td>0.728212</td>\n",
       "      <td>0.264151</td>\n",
       "    </tr>\n",
       "    <tr>\n",
       "      <th>3</th>\n",
       "      <td>AAPL</td>\n",
       "      <td>Apple Pays Long Road to Paying Off Is Getting ...</td>\n",
       "      <td>{'negative_score': 0.37146127, 'neutral_score'...</td>\n",
       "      <td>0.371461</td>\n",
       "      <td>0.556915</td>\n",
       "      <td>0.071623</td>\n",
       "    </tr>\n",
       "    <tr>\n",
       "      <th>4</th>\n",
       "      <td>AAPL</td>\n",
       "      <td>3 Red Flags for Alphabet's Future</td>\n",
       "      <td>{'negative_score': 0.0047791433, 'neutral_scor...</td>\n",
       "      <td>0.004779</td>\n",
       "      <td>0.434086</td>\n",
       "      <td>0.561135</td>\n",
       "    </tr>\n",
       "  </tbody>\n",
       "</table>\n",
       "</div>"
      ],
      "text/plain": [
       "  Company                                               News   \n",
       "0    AAPL  What leaders are saying about the economy in t...  \\\n",
       "1    AAPL  Are There Rough Waters Ahead On Tech Earnings ...   \n",
       "2    AAPL  Apple Plans iPhone Journaling App in Expansion...   \n",
       "3    AAPL  Apple Pays Long Road to Paying Off Is Getting ...   \n",
       "4    AAPL                  3 Red Flags for Alphabet's Future   \n",
       "\n",
       "                                      roberta_scores   rob_neg   rob_neu   \n",
       "0  {'negative_score': 0.019849356, 'neutral_score...  0.019849  0.944306  \\\n",
       "1  {'negative_score': 0.14316593, 'neutral_score'...  0.143166  0.834439   \n",
       "2  {'negative_score': 0.0076362663, 'neutral_scor...  0.007636  0.728212   \n",
       "3  {'negative_score': 0.37146127, 'neutral_score'...  0.371461  0.556915   \n",
       "4  {'negative_score': 0.0047791433, 'neutral_scor...  0.004779  0.434086   \n",
       "\n",
       "    rob_pos  \n",
       "0  0.035845  \n",
       "1  0.022395  \n",
       "2  0.264151  \n",
       "3  0.071623  \n",
       "4  0.561135  "
      ]
     },
     "execution_count": 2,
     "metadata": {},
     "output_type": "execute_result"
    }
   ],
   "source": [
    "companies_news = pd.read_csv('./company_news.csv')\n",
    "companies_news.head()"
   ]
  },
  {
   "attachments": {},
   "cell_type": "markdown",
   "metadata": {},
   "source": [
    "Performing sentiment analysis."
   ]
  },
  {
   "cell_type": "code",
   "execution_count": 3,
   "metadata": {},
   "outputs": [],
   "source": [
    "from transformers import AutoTokenizer \n",
    "from transformers import AutoModelForSequenceClassification \n",
    "from scipy.special import softmax "
   ]
  },
  {
   "cell_type": "code",
   "execution_count": 4,
   "metadata": {},
   "outputs": [
    {
     "name": "stderr",
     "output_type": "stream",
     "text": [
      "Some weights of the model checkpoint at cardiffnlp/twitter-roberta-base-sentiment-latest were not used when initializing RobertaForSequenceClassification: ['roberta.pooler.dense.weight', 'roberta.pooler.dense.bias']\n",
      "- This IS expected if you are initializing RobertaForSequenceClassification from the checkpoint of a model trained on another task or with another architecture (e.g. initializing a BertForSequenceClassification model from a BertForPreTraining model).\n",
      "- This IS NOT expected if you are initializing RobertaForSequenceClassification from the checkpoint of a model that you expect to be exactly identical (initializing a BertForSequenceClassification model from a BertForSequenceClassification model).\n"
     ]
    }
   ],
   "source": [
    "# Downloading models\n",
    "\n",
    "pre_trained_model = \"cardiffnlp/twitter-roberta-base-sentiment-latest\"\n",
    "tokenizer = AutoTokenizer.from_pretrained(pre_trained_model)\n",
    "model = AutoModelForSequenceClassification.from_pretrained(pre_trained_model)"
   ]
  },
  {
   "cell_type": "code",
   "execution_count": 5,
   "metadata": {},
   "outputs": [],
   "source": [
    "# Creating a function for the scores\n",
    "\n",
    "def sentiment_scores(row):\n",
    "    try: \n",
    "        # Tokenizing the text and putting it into the model \n",
    "\n",
    "        tokenized_text = tokenizer(row['News'], return_tensors='pt')\n",
    "        model_output = model(**tokenized_text)\n",
    "\n",
    "        # Taking only the scores from the Tensors and putting them in a NumPy array \n",
    "        \n",
    "        scores = model_output[0][0].detach().numpy() \n",
    "\n",
    "        # Applying the Softmax function to obtain the probability distribution \n",
    "\n",
    "        scores = softmax(scores) \n",
    "\n",
    "        # Storing the results into a dictionary \n",
    "\n",
    "        scores_dict = {\n",
    "            'negative_score':scores[0],\n",
    "            'neutral_score':scores[1],\n",
    "            'positive_score':scores[2] \n",
    "        }\n",
    "\n",
    "        return scores_dict \n",
    "    except:\n",
    "        return 'Text too big'"
   ]
  },
  {
   "cell_type": "code",
   "execution_count": 6,
   "metadata": {},
   "outputs": [
    {
     "data": {
      "text/html": [
       "<div>\n",
       "<style scoped>\n",
       "    .dataframe tbody tr th:only-of-type {\n",
       "        vertical-align: middle;\n",
       "    }\n",
       "\n",
       "    .dataframe tbody tr th {\n",
       "        vertical-align: top;\n",
       "    }\n",
       "\n",
       "    .dataframe thead th {\n",
       "        text-align: right;\n",
       "    }\n",
       "</style>\n",
       "<table border=\"1\" class=\"dataframe\">\n",
       "  <thead>\n",
       "    <tr style=\"text-align: right;\">\n",
       "      <th></th>\n",
       "      <th>Company</th>\n",
       "      <th>News</th>\n",
       "      <th>roberta_scores</th>\n",
       "    </tr>\n",
       "  </thead>\n",
       "  <tbody>\n",
       "    <tr>\n",
       "      <th>0</th>\n",
       "      <td>AAPL</td>\n",
       "      <td>What leaders are saying about the economy in t...</td>\n",
       "      <td>{'negative_score': 0.019849356, 'neutral_score...</td>\n",
       "    </tr>\n",
       "    <tr>\n",
       "      <th>1</th>\n",
       "      <td>AAPL</td>\n",
       "      <td>Are There Rough Waters Ahead On Tech Earnings ...</td>\n",
       "      <td>{'negative_score': 0.14316593, 'neutral_score'...</td>\n",
       "    </tr>\n",
       "    <tr>\n",
       "      <th>2</th>\n",
       "      <td>AAPL</td>\n",
       "      <td>Apple Plans iPhone Journaling App in Expansion...</td>\n",
       "      <td>{'negative_score': 0.0076362663, 'neutral_scor...</td>\n",
       "    </tr>\n",
       "    <tr>\n",
       "      <th>3</th>\n",
       "      <td>AAPL</td>\n",
       "      <td>Apple Pays Long Road to Paying Off Is Getting ...</td>\n",
       "      <td>{'negative_score': 0.37146127, 'neutral_score'...</td>\n",
       "    </tr>\n",
       "    <tr>\n",
       "      <th>4</th>\n",
       "      <td>AAPL</td>\n",
       "      <td>3 Red Flags for Alphabet's Future</td>\n",
       "      <td>{'negative_score': 0.0047791433, 'neutral_scor...</td>\n",
       "    </tr>\n",
       "  </tbody>\n",
       "</table>\n",
       "</div>"
      ],
      "text/plain": [
       "  Company                                               News   \n",
       "0    AAPL  What leaders are saying about the economy in t...  \\\n",
       "1    AAPL  Are There Rough Waters Ahead On Tech Earnings ...   \n",
       "2    AAPL  Apple Plans iPhone Journaling App in Expansion...   \n",
       "3    AAPL  Apple Pays Long Road to Paying Off Is Getting ...   \n",
       "4    AAPL                  3 Red Flags for Alphabet's Future   \n",
       "\n",
       "                                      roberta_scores  \n",
       "0  {'negative_score': 0.019849356, 'neutral_score...  \n",
       "1  {'negative_score': 0.14316593, 'neutral_score'...  \n",
       "2  {'negative_score': 0.0076362663, 'neutral_scor...  \n",
       "3  {'negative_score': 0.37146127, 'neutral_score'...  \n",
       "4  {'negative_score': 0.0047791433, 'neutral_scor...  "
      ]
     },
     "execution_count": 6,
     "metadata": {},
     "output_type": "execute_result"
    }
   ],
   "source": [
    "# Applying the function\n",
    "\n",
    "companies_news['roberta_scores'] = companies_news.apply(sentiment_scores, axis=1) \n",
    "companies_news.head()"
   ]
  },
  {
   "cell_type": "code",
   "execution_count": 7,
   "metadata": {},
   "outputs": [
    {
     "data": {
      "text/html": [
       "<div>\n",
       "<style scoped>\n",
       "    .dataframe tbody tr th:only-of-type {\n",
       "        vertical-align: middle;\n",
       "    }\n",
       "\n",
       "    .dataframe tbody tr th {\n",
       "        vertical-align: top;\n",
       "    }\n",
       "\n",
       "    .dataframe thead th {\n",
       "        text-align: right;\n",
       "    }\n",
       "</style>\n",
       "<table border=\"1\" class=\"dataframe\">\n",
       "  <thead>\n",
       "    <tr style=\"text-align: right;\">\n",
       "      <th></th>\n",
       "      <th>0</th>\n",
       "      <th>1</th>\n",
       "      <th>2</th>\n",
       "      <th>3</th>\n",
       "      <th>4</th>\n",
       "      <th>5</th>\n",
       "      <th>6</th>\n",
       "      <th>7</th>\n",
       "      <th>8</th>\n",
       "      <th>9</th>\n",
       "      <th>...</th>\n",
       "      <th>3939</th>\n",
       "      <th>3940</th>\n",
       "      <th>3941</th>\n",
       "      <th>3942</th>\n",
       "      <th>3943</th>\n",
       "      <th>3944</th>\n",
       "      <th>3945</th>\n",
       "      <th>3946</th>\n",
       "      <th>3947</th>\n",
       "      <th>3948</th>\n",
       "    </tr>\n",
       "  </thead>\n",
       "  <tbody>\n",
       "    <tr>\n",
       "      <th>negative_score</th>\n",
       "      <td>0.019849</td>\n",
       "      <td>0.143166</td>\n",
       "      <td>0.007636</td>\n",
       "      <td>0.371461</td>\n",
       "      <td>0.004779</td>\n",
       "      <td>0.004943</td>\n",
       "      <td>0.006268</td>\n",
       "      <td>0.062247</td>\n",
       "      <td>0.022769</td>\n",
       "      <td>0.004215</td>\n",
       "      <td>...</td>\n",
       "      <td>0.015089</td>\n",
       "      <td>0.004343</td>\n",
       "      <td>0.007203</td>\n",
       "      <td>0.008134</td>\n",
       "      <td>0.012805</td>\n",
       "      <td>0.007078</td>\n",
       "      <td>0.017477</td>\n",
       "      <td>0.007347</td>\n",
       "      <td>0.010823</td>\n",
       "      <td>0.006290</td>\n",
       "    </tr>\n",
       "    <tr>\n",
       "      <th>neutral_score</th>\n",
       "      <td>0.944306</td>\n",
       "      <td>0.834439</td>\n",
       "      <td>0.728212</td>\n",
       "      <td>0.556915</td>\n",
       "      <td>0.434086</td>\n",
       "      <td>0.240417</td>\n",
       "      <td>0.607561</td>\n",
       "      <td>0.853478</td>\n",
       "      <td>0.889218</td>\n",
       "      <td>0.395740</td>\n",
       "      <td>...</td>\n",
       "      <td>0.772849</td>\n",
       "      <td>0.146970</td>\n",
       "      <td>0.359004</td>\n",
       "      <td>0.399511</td>\n",
       "      <td>0.911519</td>\n",
       "      <td>0.294856</td>\n",
       "      <td>0.868089</td>\n",
       "      <td>0.937665</td>\n",
       "      <td>0.512837</td>\n",
       "      <td>0.773602</td>\n",
       "    </tr>\n",
       "    <tr>\n",
       "      <th>positive_score</th>\n",
       "      <td>0.035845</td>\n",
       "      <td>0.022395</td>\n",
       "      <td>0.264151</td>\n",
       "      <td>0.071623</td>\n",
       "      <td>0.561135</td>\n",
       "      <td>0.754640</td>\n",
       "      <td>0.386171</td>\n",
       "      <td>0.084275</td>\n",
       "      <td>0.088013</td>\n",
       "      <td>0.600045</td>\n",
       "      <td>...</td>\n",
       "      <td>0.212062</td>\n",
       "      <td>0.848686</td>\n",
       "      <td>0.633793</td>\n",
       "      <td>0.592354</td>\n",
       "      <td>0.075676</td>\n",
       "      <td>0.698066</td>\n",
       "      <td>0.114434</td>\n",
       "      <td>0.054988</td>\n",
       "      <td>0.476341</td>\n",
       "      <td>0.220108</td>\n",
       "    </tr>\n",
       "  </tbody>\n",
       "</table>\n",
       "<p>3 rows × 3949 columns</p>\n",
       "</div>"
      ],
      "text/plain": [
       "                    0         1         2         3         4         5      \n",
       "negative_score  0.019849  0.143166  0.007636  0.371461  0.004779  0.004943  \\\n",
       "neutral_score   0.944306  0.834439  0.728212  0.556915  0.434086  0.240417   \n",
       "positive_score  0.035845  0.022395  0.264151  0.071623  0.561135  0.754640   \n",
       "\n",
       "                    6         7         8         9     ...      3939   \n",
       "negative_score  0.006268  0.062247  0.022769  0.004215  ...  0.015089  \\\n",
       "neutral_score   0.607561  0.853478  0.889218  0.395740  ...  0.772849   \n",
       "positive_score  0.386171  0.084275  0.088013  0.600045  ...  0.212062   \n",
       "\n",
       "                    3940      3941      3942      3943      3944      3945   \n",
       "negative_score  0.004343  0.007203  0.008134  0.012805  0.007078  0.017477  \\\n",
       "neutral_score   0.146970  0.359004  0.399511  0.911519  0.294856  0.868089   \n",
       "positive_score  0.848686  0.633793  0.592354  0.075676  0.698066  0.114434   \n",
       "\n",
       "                    3946      3947      3948  \n",
       "negative_score  0.007347  0.010823  0.006290  \n",
       "neutral_score   0.937665  0.512837  0.773602  \n",
       "positive_score  0.054988  0.476341  0.220108  \n",
       "\n",
       "[3 rows x 3949 columns]"
      ]
     },
     "execution_count": 7,
     "metadata": {},
     "output_type": "execute_result"
    }
   ],
   "source": [
    "# Creating a column for each score\n",
    "\n",
    "scores_dict = {}  \n",
    "\n",
    "for index, scores in zip(companies_news.index, companies_news.roberta_scores):\n",
    "    scores_dict[index] = scores \n",
    "\n",
    "# Storing it into a dataframe \n",
    "r_scores = pd.DataFrame(scores_dict) \n",
    "r_scores.head()"
   ]
  },
  {
   "cell_type": "code",
   "execution_count": 8,
   "metadata": {},
   "outputs": [
    {
     "data": {
      "text/html": [
       "<div>\n",
       "<style scoped>\n",
       "    .dataframe tbody tr th:only-of-type {\n",
       "        vertical-align: middle;\n",
       "    }\n",
       "\n",
       "    .dataframe tbody tr th {\n",
       "        vertical-align: top;\n",
       "    }\n",
       "\n",
       "    .dataframe thead th {\n",
       "        text-align: right;\n",
       "    }\n",
       "</style>\n",
       "<table border=\"1\" class=\"dataframe\">\n",
       "  <thead>\n",
       "    <tr style=\"text-align: right;\">\n",
       "      <th></th>\n",
       "      <th>negative_score</th>\n",
       "      <th>neutral_score</th>\n",
       "      <th>positive_score</th>\n",
       "    </tr>\n",
       "  </thead>\n",
       "  <tbody>\n",
       "    <tr>\n",
       "      <th>0</th>\n",
       "      <td>0.019849</td>\n",
       "      <td>0.944306</td>\n",
       "      <td>0.035845</td>\n",
       "    </tr>\n",
       "    <tr>\n",
       "      <th>1</th>\n",
       "      <td>0.143166</td>\n",
       "      <td>0.834439</td>\n",
       "      <td>0.022395</td>\n",
       "    </tr>\n",
       "    <tr>\n",
       "      <th>2</th>\n",
       "      <td>0.007636</td>\n",
       "      <td>0.728212</td>\n",
       "      <td>0.264151</td>\n",
       "    </tr>\n",
       "    <tr>\n",
       "      <th>3</th>\n",
       "      <td>0.371461</td>\n",
       "      <td>0.556915</td>\n",
       "      <td>0.071623</td>\n",
       "    </tr>\n",
       "    <tr>\n",
       "      <th>4</th>\n",
       "      <td>0.004779</td>\n",
       "      <td>0.434086</td>\n",
       "      <td>0.561135</td>\n",
       "    </tr>\n",
       "  </tbody>\n",
       "</table>\n",
       "</div>"
      ],
      "text/plain": [
       "   negative_score  neutral_score  positive_score\n",
       "0        0.019849       0.944306        0.035845\n",
       "1        0.143166       0.834439        0.022395\n",
       "2        0.007636       0.728212        0.264151\n",
       "3        0.371461       0.556915        0.071623\n",
       "4        0.004779       0.434086        0.561135"
      ]
     },
     "execution_count": 8,
     "metadata": {},
     "output_type": "execute_result"
    }
   ],
   "source": [
    "# Transposing the dataframe \n",
    "r_scores = r_scores.T \n",
    "r_scores.head()"
   ]
  },
  {
   "cell_type": "code",
   "execution_count": 9,
   "metadata": {},
   "outputs": [
    {
     "data": {
      "text/html": [
       "<div>\n",
       "<style scoped>\n",
       "    .dataframe tbody tr th:only-of-type {\n",
       "        vertical-align: middle;\n",
       "    }\n",
       "\n",
       "    .dataframe tbody tr th {\n",
       "        vertical-align: top;\n",
       "    }\n",
       "\n",
       "    .dataframe thead th {\n",
       "        text-align: right;\n",
       "    }\n",
       "</style>\n",
       "<table border=\"1\" class=\"dataframe\">\n",
       "  <thead>\n",
       "    <tr style=\"text-align: right;\">\n",
       "      <th></th>\n",
       "      <th>Company</th>\n",
       "      <th>News</th>\n",
       "      <th>roberta_scores</th>\n",
       "      <th>rob_neg</th>\n",
       "      <th>rob_neu</th>\n",
       "      <th>rob_pos</th>\n",
       "    </tr>\n",
       "  </thead>\n",
       "  <tbody>\n",
       "    <tr>\n",
       "      <th>0</th>\n",
       "      <td>AAPL</td>\n",
       "      <td>What leaders are saying about the economy in t...</td>\n",
       "      <td>{'negative_score': 0.019849356, 'neutral_score...</td>\n",
       "      <td>0.019849</td>\n",
       "      <td>0.944306</td>\n",
       "      <td>0.035845</td>\n",
       "    </tr>\n",
       "    <tr>\n",
       "      <th>1</th>\n",
       "      <td>AAPL</td>\n",
       "      <td>Are There Rough Waters Ahead On Tech Earnings ...</td>\n",
       "      <td>{'negative_score': 0.14316593, 'neutral_score'...</td>\n",
       "      <td>0.143166</td>\n",
       "      <td>0.834439</td>\n",
       "      <td>0.022395</td>\n",
       "    </tr>\n",
       "    <tr>\n",
       "      <th>2</th>\n",
       "      <td>AAPL</td>\n",
       "      <td>Apple Plans iPhone Journaling App in Expansion...</td>\n",
       "      <td>{'negative_score': 0.0076362663, 'neutral_scor...</td>\n",
       "      <td>0.007636</td>\n",
       "      <td>0.728212</td>\n",
       "      <td>0.264151</td>\n",
       "    </tr>\n",
       "    <tr>\n",
       "      <th>3</th>\n",
       "      <td>AAPL</td>\n",
       "      <td>Apple Pays Long Road to Paying Off Is Getting ...</td>\n",
       "      <td>{'negative_score': 0.37146127, 'neutral_score'...</td>\n",
       "      <td>0.371461</td>\n",
       "      <td>0.556915</td>\n",
       "      <td>0.071623</td>\n",
       "    </tr>\n",
       "    <tr>\n",
       "      <th>4</th>\n",
       "      <td>AAPL</td>\n",
       "      <td>3 Red Flags for Alphabet's Future</td>\n",
       "      <td>{'negative_score': 0.0047791433, 'neutral_scor...</td>\n",
       "      <td>0.004779</td>\n",
       "      <td>0.434086</td>\n",
       "      <td>0.561135</td>\n",
       "    </tr>\n",
       "  </tbody>\n",
       "</table>\n",
       "</div>"
      ],
      "text/plain": [
       "  Company                                               News   \n",
       "0    AAPL  What leaders are saying about the economy in t...  \\\n",
       "1    AAPL  Are There Rough Waters Ahead On Tech Earnings ...   \n",
       "2    AAPL  Apple Plans iPhone Journaling App in Expansion...   \n",
       "3    AAPL  Apple Pays Long Road to Paying Off Is Getting ...   \n",
       "4    AAPL                  3 Red Flags for Alphabet's Future   \n",
       "\n",
       "                                      roberta_scores   rob_neg   rob_neu   \n",
       "0  {'negative_score': 0.019849356, 'neutral_score...  0.019849  0.944306  \\\n",
       "1  {'negative_score': 0.14316593, 'neutral_score'...  0.143166  0.834439   \n",
       "2  {'negative_score': 0.0076362663, 'neutral_scor...  0.007636  0.728212   \n",
       "3  {'negative_score': 0.37146127, 'neutral_score'...  0.371461  0.556915   \n",
       "4  {'negative_score': 0.0047791433, 'neutral_scor...  0.004779  0.434086   \n",
       "\n",
       "    rob_pos  \n",
       "0  0.035845  \n",
       "1  0.022395  \n",
       "2  0.264151  \n",
       "3  0.071623  \n",
       "4  0.561135  "
      ]
     },
     "execution_count": 9,
     "metadata": {},
     "output_type": "execute_result"
    }
   ],
   "source": [
    "# Merging with the first dataframe \n",
    "companies_news = companies_news.merge(r_scores, left_index=True, right_index=True) \n",
    "companies_news.rename(columns={'negative_score':'rob_neg', 'neutral_score':'rob_neu', 'positive_score':'rob_pos'}, inplace=True) \n",
    "companies_news.head()"
   ]
  },
  {
   "cell_type": "code",
   "execution_count": 10,
   "metadata": {},
   "outputs": [],
   "source": [
    "companies_news.to_csv('company_news.csv', index=None)"
   ]
  },
  {
   "attachments": {},
   "cell_type": "markdown",
   "metadata": {},
   "source": [
    "Repeating the same process for finBERT."
   ]
  },
  {
   "cell_type": "code",
   "execution_count": 6,
   "metadata": {},
   "outputs": [],
   "source": [
    "pre_trained_model = \"yiyanghkust/finbert-tone\"\n",
    "tokenizer = AutoTokenizer.from_pretrained(pre_trained_model)\n",
    "model = AutoModelForSequenceClassification.from_pretrained(pre_trained_model, num_labels=3)"
   ]
  },
  {
   "cell_type": "code",
   "execution_count": 7,
   "metadata": {},
   "outputs": [],
   "source": [
    "def sentiment_scores(row):\n",
    "    try: \n",
    "        # Tokenizing the text and putting it into the model \n",
    "\n",
    "        tokenized_text = tokenizer(row['News'], return_tensors='pt')\n",
    "        model_output = model(**tokenized_text)\n",
    "\n",
    "        # Taking only the scores from the Tensors and putting them in a NumPy array \n",
    "        \n",
    "        scores = model_output[0][0].detach().numpy() \n",
    "\n",
    "        # Applying the Softmax function to obtain the probability distribution \n",
    "\n",
    "        scores = softmax(scores) \n",
    "\n",
    "        # Storing the results into a dictionary \n",
    "\n",
    "        scores_dict = {\n",
    "            'negative_score':scores[2],\n",
    "            'neutral_score':scores[0],\n",
    "            'positive_score':scores[1] \n",
    "        }\n",
    "\n",
    "        return scores_dict \n",
    "    except:\n",
    "        return 'Text too big'"
   ]
  },
  {
   "cell_type": "code",
   "execution_count": 8,
   "metadata": {},
   "outputs": [
    {
     "data": {
      "text/html": [
       "<div>\n",
       "<style scoped>\n",
       "    .dataframe tbody tr th:only-of-type {\n",
       "        vertical-align: middle;\n",
       "    }\n",
       "\n",
       "    .dataframe tbody tr th {\n",
       "        vertical-align: top;\n",
       "    }\n",
       "\n",
       "    .dataframe thead th {\n",
       "        text-align: right;\n",
       "    }\n",
       "</style>\n",
       "<table border=\"1\" class=\"dataframe\">\n",
       "  <thead>\n",
       "    <tr style=\"text-align: right;\">\n",
       "      <th></th>\n",
       "      <th>Company</th>\n",
       "      <th>News</th>\n",
       "      <th>roberta_scores</th>\n",
       "      <th>rob_neg</th>\n",
       "      <th>rob_neu</th>\n",
       "      <th>rob_pos</th>\n",
       "      <th>finbert_scores</th>\n",
       "      <th>fin_neg</th>\n",
       "      <th>fin_neu</th>\n",
       "      <th>fin_pos</th>\n",
       "    </tr>\n",
       "  </thead>\n",
       "  <tbody>\n",
       "    <tr>\n",
       "      <th>0</th>\n",
       "      <td>AAPL</td>\n",
       "      <td>What leaders are saying about the economy in t...</td>\n",
       "      <td>{'negative_score': 0.019849356, 'neutral_score...</td>\n",
       "      <td>0.019849</td>\n",
       "      <td>0.944306</td>\n",
       "      <td>0.035845</td>\n",
       "      <td>{'negative_score': 0.0004181307, 'neutral_scor...</td>\n",
       "      <td>0.000418</td>\n",
       "      <td>0.999563</td>\n",
       "      <td>0.000019</td>\n",
       "    </tr>\n",
       "    <tr>\n",
       "      <th>1</th>\n",
       "      <td>AAPL</td>\n",
       "      <td>Are There Rough Waters Ahead On Tech Earnings ...</td>\n",
       "      <td>{'negative_score': 0.14316593, 'neutral_score'...</td>\n",
       "      <td>0.143166</td>\n",
       "      <td>0.834439</td>\n",
       "      <td>0.022395</td>\n",
       "      <td>{'negative_score': 0.00021061316, 'neutral_sco...</td>\n",
       "      <td>0.000211</td>\n",
       "      <td>0.999761</td>\n",
       "      <td>0.000028</td>\n",
       "    </tr>\n",
       "    <tr>\n",
       "      <th>2</th>\n",
       "      <td>AAPL</td>\n",
       "      <td>Apple Plans iPhone Journaling App in Expansion...</td>\n",
       "      <td>{'negative_score': 0.0076362663, 'neutral_scor...</td>\n",
       "      <td>0.007636</td>\n",
       "      <td>0.728212</td>\n",
       "      <td>0.264151</td>\n",
       "      <td>{'negative_score': 8.6331875e-06, 'neutral_sco...</td>\n",
       "      <td>0.000009</td>\n",
       "      <td>0.989234</td>\n",
       "      <td>0.010757</td>\n",
       "    </tr>\n",
       "    <tr>\n",
       "      <th>3</th>\n",
       "      <td>AAPL</td>\n",
       "      <td>Apple Pays Long Road to Paying Off Is Getting ...</td>\n",
       "      <td>{'negative_score': 0.37146127, 'neutral_score'...</td>\n",
       "      <td>0.371461</td>\n",
       "      <td>0.556915</td>\n",
       "      <td>0.071623</td>\n",
       "      <td>{'negative_score': 0.010994043, 'neutral_score...</td>\n",
       "      <td>0.010994</td>\n",
       "      <td>0.884704</td>\n",
       "      <td>0.104302</td>\n",
       "    </tr>\n",
       "    <tr>\n",
       "      <th>4</th>\n",
       "      <td>AAPL</td>\n",
       "      <td>3 Red Flags for Alphabet's Future</td>\n",
       "      <td>{'negative_score': 0.0047791433, 'neutral_scor...</td>\n",
       "      <td>0.004779</td>\n",
       "      <td>0.434086</td>\n",
       "      <td>0.561135</td>\n",
       "      <td>{'negative_score': 0.0019774495, 'neutral_scor...</td>\n",
       "      <td>0.001977</td>\n",
       "      <td>0.066884</td>\n",
       "      <td>0.931138</td>\n",
       "    </tr>\n",
       "  </tbody>\n",
       "</table>\n",
       "</div>"
      ],
      "text/plain": [
       "  Company                                               News   \n",
       "0    AAPL  What leaders are saying about the economy in t...  \\\n",
       "1    AAPL  Are There Rough Waters Ahead On Tech Earnings ...   \n",
       "2    AAPL  Apple Plans iPhone Journaling App in Expansion...   \n",
       "3    AAPL  Apple Pays Long Road to Paying Off Is Getting ...   \n",
       "4    AAPL                  3 Red Flags for Alphabet's Future   \n",
       "\n",
       "                                      roberta_scores   rob_neg   rob_neu   \n",
       "0  {'negative_score': 0.019849356, 'neutral_score...  0.019849  0.944306  \\\n",
       "1  {'negative_score': 0.14316593, 'neutral_score'...  0.143166  0.834439   \n",
       "2  {'negative_score': 0.0076362663, 'neutral_scor...  0.007636  0.728212   \n",
       "3  {'negative_score': 0.37146127, 'neutral_score'...  0.371461  0.556915   \n",
       "4  {'negative_score': 0.0047791433, 'neutral_scor...  0.004779  0.434086   \n",
       "\n",
       "    rob_pos                                     finbert_scores   fin_neg   \n",
       "0  0.035845  {'negative_score': 0.0004181307, 'neutral_scor...  0.000418  \\\n",
       "1  0.022395  {'negative_score': 0.00021061316, 'neutral_sco...  0.000211   \n",
       "2  0.264151  {'negative_score': 8.6331875e-06, 'neutral_sco...  0.000009   \n",
       "3  0.071623  {'negative_score': 0.010994043, 'neutral_score...  0.010994   \n",
       "4  0.561135  {'negative_score': 0.0019774495, 'neutral_scor...  0.001977   \n",
       "\n",
       "    fin_neu   fin_pos  \n",
       "0  0.999563  0.000019  \n",
       "1  0.999761  0.000028  \n",
       "2  0.989234  0.010757  \n",
       "3  0.884704  0.104302  \n",
       "4  0.066884  0.931138  "
      ]
     },
     "execution_count": 8,
     "metadata": {},
     "output_type": "execute_result"
    }
   ],
   "source": [
    "companies_news['finbert_scores'] = companies_news.apply(sentiment_scores, axis=1) \n",
    "\n",
    "scores_dict = {}  \n",
    "\n",
    "for index, scores in zip(companies_news.index, companies_news.finbert_scores):\n",
    "    scores_dict[index] = scores \n",
    "\n",
    " \n",
    "f_scores = pd.DataFrame(scores_dict)  \n",
    "f_scores = f_scores.T \n",
    "\n",
    "companies_news = companies_news.merge(f_scores, left_index=True, right_index=True) \n",
    "companies_news.rename(columns={'negative_score':'fin_neg', 'neutral_score':'fin_neu', 'positive_score':'fin_pos'}, inplace=True) \n",
    "companies_news.head()"
   ]
  },
  {
   "cell_type": "code",
   "execution_count": 24,
   "metadata": {},
   "outputs": [],
   "source": [
    "companies_news.to_csv('company_news.csv', index=None)"
   ]
  },
  {
   "attachments": {},
   "cell_type": "markdown",
   "metadata": {},
   "source": [
    "Now, the two dataframes with statistical measures will be merged together, while the one with sentiment analysis will be kept separate.  \n",
    "This choice is due to the different scopes of them: the first two provide a more statistical component, while the third a qualitative one. "
   ]
  },
  {
   "cell_type": "code",
   "execution_count": 19,
   "metadata": {},
   "outputs": [
    {
     "data": {
      "text/html": [
       "<div>\n",
       "<style scoped>\n",
       "    .dataframe tbody tr th:only-of-type {\n",
       "        vertical-align: middle;\n",
       "    }\n",
       "\n",
       "    .dataframe tbody tr th {\n",
       "        vertical-align: top;\n",
       "    }\n",
       "\n",
       "    .dataframe thead th {\n",
       "        text-align: right;\n",
       "    }\n",
       "</style>\n",
       "<table border=\"1\" class=\"dataframe\">\n",
       "  <thead>\n",
       "    <tr style=\"text-align: right;\">\n",
       "      <th></th>\n",
       "      <th>Company</th>\n",
       "      <th>News</th>\n",
       "      <th>roberta_scores</th>\n",
       "      <th>rob_neg</th>\n",
       "      <th>rob_neu</th>\n",
       "      <th>rob_pos</th>\n",
       "      <th>finbert_scores</th>\n",
       "      <th>fin_neg</th>\n",
       "      <th>fin_neu</th>\n",
       "      <th>fin_pos</th>\n",
       "    </tr>\n",
       "  </thead>\n",
       "  <tbody>\n",
       "    <tr>\n",
       "      <th>0</th>\n",
       "      <td>AAPL</td>\n",
       "      <td>What leaders are saying about the economy in t...</td>\n",
       "      <td>{'negative_score': 0.019849356, 'neutral_score...</td>\n",
       "      <td>0.019849</td>\n",
       "      <td>0.944306</td>\n",
       "      <td>0.035845</td>\n",
       "      <td>{'negative_score': 0.0004181307, 'neutral_scor...</td>\n",
       "      <td>0.000418</td>\n",
       "      <td>0.999563</td>\n",
       "      <td>0.000019</td>\n",
       "    </tr>\n",
       "    <tr>\n",
       "      <th>1</th>\n",
       "      <td>AAPL</td>\n",
       "      <td>Are There Rough Waters Ahead On Tech Earnings ...</td>\n",
       "      <td>{'negative_score': 0.14316593, 'neutral_score'...</td>\n",
       "      <td>0.143166</td>\n",
       "      <td>0.834439</td>\n",
       "      <td>0.022395</td>\n",
       "      <td>{'negative_score': 0.00021061316, 'neutral_sco...</td>\n",
       "      <td>0.000211</td>\n",
       "      <td>0.999761</td>\n",
       "      <td>0.000028</td>\n",
       "    </tr>\n",
       "    <tr>\n",
       "      <th>2</th>\n",
       "      <td>AAPL</td>\n",
       "      <td>Apple Plans iPhone Journaling App in Expansion...</td>\n",
       "      <td>{'negative_score': 0.0076362663, 'neutral_scor...</td>\n",
       "      <td>0.007636</td>\n",
       "      <td>0.728212</td>\n",
       "      <td>0.264151</td>\n",
       "      <td>{'negative_score': 8.6331875e-06, 'neutral_sco...</td>\n",
       "      <td>0.000009</td>\n",
       "      <td>0.989234</td>\n",
       "      <td>0.010757</td>\n",
       "    </tr>\n",
       "    <tr>\n",
       "      <th>3</th>\n",
       "      <td>AAPL</td>\n",
       "      <td>Apple Pays Long Road to Paying Off Is Getting ...</td>\n",
       "      <td>{'negative_score': 0.37146127, 'neutral_score'...</td>\n",
       "      <td>0.371461</td>\n",
       "      <td>0.556915</td>\n",
       "      <td>0.071623</td>\n",
       "      <td>{'negative_score': 0.010994043, 'neutral_score...</td>\n",
       "      <td>0.010994</td>\n",
       "      <td>0.884704</td>\n",
       "      <td>0.104302</td>\n",
       "    </tr>\n",
       "    <tr>\n",
       "      <th>4</th>\n",
       "      <td>AAPL</td>\n",
       "      <td>3 Red Flags for Alphabet's Future</td>\n",
       "      <td>{'negative_score': 0.0047791433, 'neutral_scor...</td>\n",
       "      <td>0.004779</td>\n",
       "      <td>0.434086</td>\n",
       "      <td>0.561135</td>\n",
       "      <td>{'negative_score': 0.0019774495, 'neutral_scor...</td>\n",
       "      <td>0.001977</td>\n",
       "      <td>0.066884</td>\n",
       "      <td>0.931138</td>\n",
       "    </tr>\n",
       "  </tbody>\n",
       "</table>\n",
       "</div>"
      ],
      "text/plain": [
       "  Company                                               News   \n",
       "0    AAPL  What leaders are saying about the economy in t...  \\\n",
       "1    AAPL  Are There Rough Waters Ahead On Tech Earnings ...   \n",
       "2    AAPL  Apple Plans iPhone Journaling App in Expansion...   \n",
       "3    AAPL  Apple Pays Long Road to Paying Off Is Getting ...   \n",
       "4    AAPL                  3 Red Flags for Alphabet's Future   \n",
       "\n",
       "                                      roberta_scores   rob_neg   rob_neu   \n",
       "0  {'negative_score': 0.019849356, 'neutral_score...  0.019849  0.944306  \\\n",
       "1  {'negative_score': 0.14316593, 'neutral_score'...  0.143166  0.834439   \n",
       "2  {'negative_score': 0.0076362663, 'neutral_scor...  0.007636  0.728212   \n",
       "3  {'negative_score': 0.37146127, 'neutral_score'...  0.371461  0.556915   \n",
       "4  {'negative_score': 0.0047791433, 'neutral_scor...  0.004779  0.434086   \n",
       "\n",
       "    rob_pos                                     finbert_scores   fin_neg   \n",
       "0  0.035845  {'negative_score': 0.0004181307, 'neutral_scor...  0.000418  \\\n",
       "1  0.022395  {'negative_score': 0.00021061316, 'neutral_sco...  0.000211   \n",
       "2  0.264151  {'negative_score': 8.6331875e-06, 'neutral_sco...  0.000009   \n",
       "3  0.071623  {'negative_score': 0.010994043, 'neutral_score...  0.010994   \n",
       "4  0.561135  {'negative_score': 0.0019774495, 'neutral_scor...  0.001977   \n",
       "\n",
       "    fin_neu   fin_pos  \n",
       "0  0.999563  0.000019  \n",
       "1  0.999761  0.000028  \n",
       "2  0.989234  0.010757  \n",
       "3  0.884704  0.104302  \n",
       "4  0.066884  0.931138  "
      ]
     },
     "execution_count": 19,
     "metadata": {},
     "output_type": "execute_result"
    }
   ],
   "source": [
    "companies_news = pd.read_csv('./company_news.csv')\n",
    "companies_news.head()"
   ]
  },
  {
   "cell_type": "code",
   "execution_count": 13,
   "metadata": {},
   "outputs": [
    {
     "data": {
      "text/html": [
       "<div>\n",
       "<style scoped>\n",
       "    .dataframe tbody tr th:only-of-type {\n",
       "        vertical-align: middle;\n",
       "    }\n",
       "\n",
       "    .dataframe tbody tr th {\n",
       "        vertical-align: top;\n",
       "    }\n",
       "\n",
       "    .dataframe thead th {\n",
       "        text-align: right;\n",
       "    }\n",
       "</style>\n",
       "<table border=\"1\" class=\"dataframe\">\n",
       "  <thead>\n",
       "    <tr style=\"text-align: right;\">\n",
       "      <th></th>\n",
       "      <th>Company</th>\n",
       "      <th>adjclose_std</th>\n",
       "      <th>adjclose_mean</th>\n",
       "      <th>adjclose_coefficient_of_variation</th>\n",
       "      <th>adjclose_kurtosis</th>\n",
       "    </tr>\n",
       "  </thead>\n",
       "  <tbody>\n",
       "    <tr>\n",
       "      <th>0</th>\n",
       "      <td>AAPL</td>\n",
       "      <td>10.927279</td>\n",
       "      <td>149.171844</td>\n",
       "      <td>0.073253</td>\n",
       "      <td>-0.720697</td>\n",
       "    </tr>\n",
       "    <tr>\n",
       "      <th>1</th>\n",
       "      <td>ABNB</td>\n",
       "      <td>16.735984</td>\n",
       "      <td>112.405472</td>\n",
       "      <td>0.148889</td>\n",
       "      <td>2.570167</td>\n",
       "    </tr>\n",
       "    <tr>\n",
       "      <th>2</th>\n",
       "      <td>ACN</td>\n",
       "      <td>16.753241</td>\n",
       "      <td>280.207211</td>\n",
       "      <td>0.059789</td>\n",
       "      <td>-0.513579</td>\n",
       "    </tr>\n",
       "    <tr>\n",
       "      <th>3</th>\n",
       "      <td>AMZN</td>\n",
       "      <td>16.852513</td>\n",
       "      <td>109.730434</td>\n",
       "      <td>0.153581</td>\n",
       "      <td>-0.286615</td>\n",
       "    </tr>\n",
       "    <tr>\n",
       "      <th>4</th>\n",
       "      <td>BABA</td>\n",
       "      <td>13.486969</td>\n",
       "      <td>92.948868</td>\n",
       "      <td>0.145101</td>\n",
       "      <td>-0.184827</td>\n",
       "    </tr>\n",
       "  </tbody>\n",
       "</table>\n",
       "</div>"
      ],
      "text/plain": [
       "  Company  adjclose_std  adjclose_mean  adjclose_coefficient_of_variation   \n",
       "0    AAPL     10.927279     149.171844                           0.073253  \\\n",
       "1    ABNB     16.735984     112.405472                           0.148889   \n",
       "2     ACN     16.753241     280.207211                           0.059789   \n",
       "3    AMZN     16.852513     109.730434                           0.153581   \n",
       "4    BABA     13.486969      92.948868                           0.145101   \n",
       "\n",
       "   adjclose_kurtosis  \n",
       "0          -0.720697  \n",
       "1           2.570167  \n",
       "2          -0.513579  \n",
       "3          -0.286615  \n",
       "4          -0.184827  "
      ]
     },
     "execution_count": 13,
     "metadata": {},
     "output_type": "execute_result"
    }
   ],
   "source": [
    "final_df = companies_std_mean.merge(kurtosis_df.reset_index().rename(columns={'index':'Company'}), on='Company') \n",
    "final_df.head()"
   ]
  },
  {
   "attachments": {},
   "cell_type": "markdown",
   "metadata": {},
   "source": [
    "Storing it."
   ]
  },
  {
   "cell_type": "code",
   "execution_count": 14,
   "metadata": {},
   "outputs": [],
   "source": [
    "final_df.to_csv('final_df.csv', index=None)"
   ]
  },
  {
   "attachments": {},
   "cell_type": "markdown",
   "metadata": {},
   "source": [
    "Is there a relationship between the coefficient of variation and the Kurtosis? "
   ]
  },
  {
   "cell_type": "code",
   "execution_count": 15,
   "metadata": {},
   "outputs": [
    {
     "data": {
      "text/html": [
       "<div>\n",
       "<style scoped>\n",
       "    .dataframe tbody tr th:only-of-type {\n",
       "        vertical-align: middle;\n",
       "    }\n",
       "\n",
       "    .dataframe tbody tr th {\n",
       "        vertical-align: top;\n",
       "    }\n",
       "\n",
       "    .dataframe thead th {\n",
       "        text-align: right;\n",
       "    }\n",
       "</style>\n",
       "<table border=\"1\" class=\"dataframe\">\n",
       "  <thead>\n",
       "    <tr style=\"text-align: right;\">\n",
       "      <th></th>\n",
       "      <th>adjclose_std</th>\n",
       "      <th>adjclose_mean</th>\n",
       "      <th>adjclose_coefficient_of_variation</th>\n",
       "      <th>adjclose_kurtosis</th>\n",
       "    </tr>\n",
       "  </thead>\n",
       "  <tbody>\n",
       "    <tr>\n",
       "      <th>adjclose_std</th>\n",
       "      <td>1.000000</td>\n",
       "      <td>0.917284</td>\n",
       "      <td>-0.007363</td>\n",
       "      <td>0.088635</td>\n",
       "    </tr>\n",
       "    <tr>\n",
       "      <th>adjclose_mean</th>\n",
       "      <td>0.917284</td>\n",
       "      <td>1.000000</td>\n",
       "      <td>-0.244189</td>\n",
       "      <td>-0.004331</td>\n",
       "    </tr>\n",
       "    <tr>\n",
       "      <th>adjclose_coefficient_of_variation</th>\n",
       "      <td>-0.007363</td>\n",
       "      <td>-0.244189</td>\n",
       "      <td>1.000000</td>\n",
       "      <td>0.174083</td>\n",
       "    </tr>\n",
       "    <tr>\n",
       "      <th>adjclose_kurtosis</th>\n",
       "      <td>0.088635</td>\n",
       "      <td>-0.004331</td>\n",
       "      <td>0.174083</td>\n",
       "      <td>1.000000</td>\n",
       "    </tr>\n",
       "  </tbody>\n",
       "</table>\n",
       "</div>"
      ],
      "text/plain": [
       "                                   adjclose_std  adjclose_mean   \n",
       "adjclose_std                           1.000000       0.917284  \\\n",
       "adjclose_mean                          0.917284       1.000000   \n",
       "adjclose_coefficient_of_variation     -0.007363      -0.244189   \n",
       "adjclose_kurtosis                      0.088635      -0.004331   \n",
       "\n",
       "                                   adjclose_coefficient_of_variation   \n",
       "adjclose_std                                               -0.007363  \\\n",
       "adjclose_mean                                              -0.244189   \n",
       "adjclose_coefficient_of_variation                           1.000000   \n",
       "adjclose_kurtosis                                           0.174083   \n",
       "\n",
       "                                   adjclose_kurtosis  \n",
       "adjclose_std                                0.088635  \n",
       "adjclose_mean                              -0.004331  \n",
       "adjclose_coefficient_of_variation           0.174083  \n",
       "adjclose_kurtosis                           1.000000  "
      ]
     },
     "execution_count": 15,
     "metadata": {},
     "output_type": "execute_result"
    }
   ],
   "source": [
    "final_df.corr(numeric_only=True)"
   ]
  },
  {
   "cell_type": "code",
   "execution_count": 16,
   "metadata": {},
   "outputs": [
    {
     "data": {
      "image/png": "[encoded data removed]",
      "text/plain": [
       "<Figure size 1080x360 with 1 Axes>"
      ]
     },
     "metadata": {
      "needs_background": "light"
     },
     "output_type": "display_data"
    }
   ],
   "source": [
    "sns.scatterplot(data=final_df, x='adjclose_coefficient_of_variation', y='adjclose_kurtosis')\n",
    "plt.title('Coefficient of Variation vs Kurtosis');"
   ]
  },
  {
   "attachments": {},
   "cell_type": "markdown",
   "metadata": {},
   "source": [
    "The graph confirms that the relationship between the two indicators is not high. "
   ]
  },
  {
   "attachments": {},
   "cell_type": "markdown",
   "metadata": {},
   "source": [
    "### Clustering Companies using Coefficient of Variation and Kurtosis  \n",
    "\n",
    "To define which companies are riskier, it is possible to try a clustering approach to define them. "
   ]
  },
  {
   "cell_type": "code",
   "execution_count": 19,
   "metadata": {},
   "outputs": [
    {
     "data": {
      "text/html": [
       "<div>\n",
       "<style scoped>\n",
       "    .dataframe tbody tr th:only-of-type {\n",
       "        vertical-align: middle;\n",
       "    }\n",
       "\n",
       "    .dataframe tbody tr th {\n",
       "        vertical-align: top;\n",
       "    }\n",
       "\n",
       "    .dataframe thead th {\n",
       "        text-align: right;\n",
       "    }\n",
       "</style>\n",
       "<table border=\"1\" class=\"dataframe\">\n",
       "  <thead>\n",
       "    <tr style=\"text-align: right;\">\n",
       "      <th></th>\n",
       "      <th>Company</th>\n",
       "      <th>adjclose_std</th>\n",
       "      <th>adjclose_mean</th>\n",
       "      <th>adjclose_coefficient_of_variation</th>\n",
       "      <th>adjclose_kurtosis</th>\n",
       "    </tr>\n",
       "  </thead>\n",
       "  <tbody>\n",
       "    <tr>\n",
       "      <th>0</th>\n",
       "      <td>AAPL</td>\n",
       "      <td>10.927279</td>\n",
       "      <td>149.171844</td>\n",
       "      <td>0.073253</td>\n",
       "      <td>-0.720697</td>\n",
       "    </tr>\n",
       "    <tr>\n",
       "      <th>1</th>\n",
       "      <td>ABNB</td>\n",
       "      <td>16.735984</td>\n",
       "      <td>112.405472</td>\n",
       "      <td>0.148889</td>\n",
       "      <td>2.570167</td>\n",
       "    </tr>\n",
       "    <tr>\n",
       "      <th>2</th>\n",
       "      <td>ACN</td>\n",
       "      <td>16.753241</td>\n",
       "      <td>280.207211</td>\n",
       "      <td>0.059789</td>\n",
       "      <td>-0.513579</td>\n",
       "    </tr>\n",
       "    <tr>\n",
       "      <th>3</th>\n",
       "      <td>AMZN</td>\n",
       "      <td>16.852513</td>\n",
       "      <td>109.730434</td>\n",
       "      <td>0.153581</td>\n",
       "      <td>-0.286615</td>\n",
       "    </tr>\n",
       "    <tr>\n",
       "      <th>4</th>\n",
       "      <td>BABA</td>\n",
       "      <td>13.486969</td>\n",
       "      <td>92.948868</td>\n",
       "      <td>0.145101</td>\n",
       "      <td>-0.184827</td>\n",
       "    </tr>\n",
       "  </tbody>\n",
       "</table>\n",
       "</div>"
      ],
      "text/plain": [
       "  Company  adjclose_std  adjclose_mean  adjclose_coefficient_of_variation   \n",
       "0    AAPL     10.927279     149.171844                           0.073253  \\\n",
       "1    ABNB     16.735984     112.405472                           0.148889   \n",
       "2     ACN     16.753241     280.207211                           0.059789   \n",
       "3    AMZN     16.852513     109.730434                           0.153581   \n",
       "4    BABA     13.486969      92.948868                           0.145101   \n",
       "\n",
       "   adjclose_kurtosis  \n",
       "0          -0.720697  \n",
       "1           2.570167  \n",
       "2          -0.513579  \n",
       "3          -0.286615  \n",
       "4          -0.184827  "
      ]
     },
     "execution_count": 19,
     "metadata": {},
     "output_type": "execute_result"
    }
   ],
   "source": [
    "final_df = pd.read_csv('./final_df.csv')\n",
    "final_df.head()"
   ]
  },
  {
   "cell_type": "code",
   "execution_count": 3,
   "metadata": {},
   "outputs": [],
   "source": [
    "from sklearn.cluster import KMeans \n",
    "from sklearn.preprocessing import MinMaxScaler "
   ]
  },
  {
   "attachments": {},
   "cell_type": "markdown",
   "metadata": {},
   "source": [
    "Before performing clustering, it is necessary to put data on the same scale. "
   ]
  },
  {
   "cell_type": "code",
   "execution_count": 4,
   "metadata": {},
   "outputs": [],
   "source": [
    "cols_to_scale = ['adjclose_coefficient_of_variation', 'adjclose_kurtosis'] \n",
    "\n",
    "scaler = MinMaxScaler(feature_range=(-1,1)).fit(final_df[cols_to_scale])\n",
    "\n",
    "final_df[cols_to_scale] = scaler.transform(final_df[cols_to_scale]) "
   ]
  },
  {
   "attachments": {},
   "cell_type": "markdown",
   "metadata": {},
   "source": [
    "Checking the result, the two columns should be in a range of -1 and 1. "
   ]
  },
  {
   "cell_type": "code",
   "execution_count": 5,
   "metadata": {},
   "outputs": [
    {
     "data": {
      "text/html": [
       "<div>\n",
       "<style scoped>\n",
       "    .dataframe tbody tr th:only-of-type {\n",
       "        vertical-align: middle;\n",
       "    }\n",
       "\n",
       "    .dataframe tbody tr th {\n",
       "        vertical-align: top;\n",
       "    }\n",
       "\n",
       "    .dataframe thead th {\n",
       "        text-align: right;\n",
       "    }\n",
       "</style>\n",
       "<table border=\"1\" class=\"dataframe\">\n",
       "  <thead>\n",
       "    <tr style=\"text-align: right;\">\n",
       "      <th></th>\n",
       "      <th>adjclose_std</th>\n",
       "      <th>adjclose_mean</th>\n",
       "      <th>adjclose_coefficient_of_variation</th>\n",
       "      <th>adjclose_kurtosis</th>\n",
       "    </tr>\n",
       "  </thead>\n",
       "  <tbody>\n",
       "    <tr>\n",
       "      <th>min</th>\n",
       "      <td>0.485524</td>\n",
       "      <td>2.942906</td>\n",
       "      <td>-1.0</td>\n",
       "      <td>-1.0</td>\n",
       "    </tr>\n",
       "    <tr>\n",
       "      <th>max</th>\n",
       "      <td>101.717501</td>\n",
       "      <td>1812.015100</td>\n",
       "      <td>1.0</td>\n",
       "      <td>1.0</td>\n",
       "    </tr>\n",
       "  </tbody>\n",
       "</table>\n",
       "</div>"
      ],
      "text/plain": [
       "     adjclose_std  adjclose_mean  adjclose_coefficient_of_variation   \n",
       "min      0.485524       2.942906                               -1.0  \\\n",
       "max    101.717501    1812.015100                                1.0   \n",
       "\n",
       "     adjclose_kurtosis  \n",
       "min               -1.0  \n",
       "max                1.0  "
      ]
     },
     "execution_count": 5,
     "metadata": {},
     "output_type": "execute_result"
    }
   ],
   "source": [
    "final_df.describe().loc[['min', 'max']]"
   ]
  },
  {
   "attachments": {},
   "cell_type": "markdown",
   "metadata": {},
   "source": [
    "All the values have been put on the same scale. "
   ]
  },
  {
   "cell_type": "code",
   "execution_count": 6,
   "metadata": {},
   "outputs": [],
   "source": [
    "# Defining cluster inputs \n",
    "X = final_df[cols_to_scale] \n",
    "\n",
    "#Defining and fitting the model \n",
    "model = KMeans(n_clusters=4, random_state=42) \n",
    "model.fit(X) \n",
    "\n",
    "#Making predictions \n",
    "preds = model.predict(X) "
   ]
  },
  {
   "cell_type": "code",
   "execution_count": 7,
   "metadata": {},
   "outputs": [
    {
     "data": {
      "text/html": [
       "<div>\n",
       "<style scoped>\n",
       "    .dataframe tbody tr th:only-of-type {\n",
       "        vertical-align: middle;\n",
       "    }\n",
       "\n",
       "    .dataframe tbody tr th {\n",
       "        vertical-align: top;\n",
       "    }\n",
       "\n",
       "    .dataframe thead th {\n",
       "        text-align: right;\n",
       "    }\n",
       "</style>\n",
       "<table border=\"1\" class=\"dataframe\">\n",
       "  <thead>\n",
       "    <tr style=\"text-align: right;\">\n",
       "      <th></th>\n",
       "      <th>Company</th>\n",
       "      <th>adjclose_std</th>\n",
       "      <th>adjclose_mean</th>\n",
       "      <th>adjclose_coefficient_of_variation</th>\n",
       "      <th>adjclose_kurtosis</th>\n",
       "      <th>Cluster</th>\n",
       "    </tr>\n",
       "  </thead>\n",
       "  <tbody>\n",
       "    <tr>\n",
       "      <th>0</th>\n",
       "      <td>AAPL</td>\n",
       "      <td>10.927279</td>\n",
       "      <td>149.171844</td>\n",
       "      <td>-0.822164</td>\n",
       "      <td>-0.851838</td>\n",
       "      <td>0</td>\n",
       "    </tr>\n",
       "    <tr>\n",
       "      <th>1</th>\n",
       "      <td>ABNB</td>\n",
       "      <td>16.735984</td>\n",
       "      <td>112.405472</td>\n",
       "      <td>-0.240098</td>\n",
       "      <td>0.012462</td>\n",
       "      <td>3</td>\n",
       "    </tr>\n",
       "    <tr>\n",
       "      <th>2</th>\n",
       "      <td>ACN</td>\n",
       "      <td>16.753241</td>\n",
       "      <td>280.207211</td>\n",
       "      <td>-0.925779</td>\n",
       "      <td>-0.797442</td>\n",
       "      <td>0</td>\n",
       "    </tr>\n",
       "    <tr>\n",
       "      <th>3</th>\n",
       "      <td>AMZN</td>\n",
       "      <td>16.852513</td>\n",
       "      <td>109.730434</td>\n",
       "      <td>-0.203993</td>\n",
       "      <td>-0.737833</td>\n",
       "      <td>2</td>\n",
       "    </tr>\n",
       "    <tr>\n",
       "      <th>4</th>\n",
       "      <td>BABA</td>\n",
       "      <td>13.486969</td>\n",
       "      <td>92.948868</td>\n",
       "      <td>-0.269252</td>\n",
       "      <td>-0.711099</td>\n",
       "      <td>2</td>\n",
       "    </tr>\n",
       "  </tbody>\n",
       "</table>\n",
       "</div>"
      ],
      "text/plain": [
       "  Company  adjclose_std  adjclose_mean  adjclose_coefficient_of_variation   \n",
       "0    AAPL     10.927279     149.171844                          -0.822164  \\\n",
       "1    ABNB     16.735984     112.405472                          -0.240098   \n",
       "2     ACN     16.753241     280.207211                          -0.925779   \n",
       "3    AMZN     16.852513     109.730434                          -0.203993   \n",
       "4    BABA     13.486969      92.948868                          -0.269252   \n",
       "\n",
       "   adjclose_kurtosis  Cluster  \n",
       "0          -0.851838        0  \n",
       "1           0.012462        3  \n",
       "2          -0.797442        0  \n",
       "3          -0.737833        2  \n",
       "4          -0.711099        2  "
      ]
     },
     "execution_count": 7,
     "metadata": {},
     "output_type": "execute_result"
    }
   ],
   "source": [
    "final_df['Cluster'] = preds \n",
    "final_df.head()"
   ]
  },
  {
   "attachments": {},
   "cell_type": "markdown",
   "metadata": {},
   "source": [
    "Plotting the final result. "
   ]
  },
  {
   "cell_type": "code",
   "execution_count": 8,
   "metadata": {},
   "outputs": [
    {
     "data": {
      "image/png": "[encoded data removed]",
      "text/plain": [
       "<Figure size 1080x360 with 1 Axes>"
      ]
     },
     "metadata": {
      "needs_background": "light"
     },
     "output_type": "display_data"
    }
   ],
   "source": [
    "sns.scatterplot(data=final_df, x='adjclose_coefficient_of_variation', y='adjclose_kurtosis', hue='Cluster', palette='Spectral') \n",
    "plt.title('Clustering Companies')\n",
    "\n",
    "\n",
    "# Plotting the centers \n",
    "x_center, y_center = model.cluster_centers_[:,0], model.cluster_centers_[:,1] \n",
    "plt.plot(x_center, y_center, 'xb');"
   ]
  },
  {
   "attachments": {},
   "cell_type": "markdown",
   "metadata": {},
   "source": [
    "Companies in cluster 1 and 3."
   ]
  },
  {
   "cell_type": "code",
   "execution_count": 71,
   "metadata": {},
   "outputs": [
    {
     "data": {
      "text/html": [
       "<div>\n",
       "<style scoped>\n",
       "    .dataframe tbody tr th:only-of-type {\n",
       "        vertical-align: middle;\n",
       "    }\n",
       "\n",
       "    .dataframe tbody tr th {\n",
       "        vertical-align: top;\n",
       "    }\n",
       "\n",
       "    .dataframe thead th {\n",
       "        text-align: right;\n",
       "    }\n",
       "</style>\n",
       "<table border=\"1\" class=\"dataframe\">\n",
       "  <thead>\n",
       "    <tr style=\"text-align: right;\">\n",
       "      <th></th>\n",
       "      <th>Company</th>\n",
       "      <th>adjclose_std</th>\n",
       "      <th>adjclose_mean</th>\n",
       "      <th>adjclose_coefficient_of_variation</th>\n",
       "      <th>adjclose_kurtosis</th>\n",
       "      <th>Cluster</th>\n",
       "    </tr>\n",
       "  </thead>\n",
       "  <tbody>\n",
       "    <tr>\n",
       "      <th>1</th>\n",
       "      <td>ABNB</td>\n",
       "      <td>16.735984</td>\n",
       "      <td>112.405472</td>\n",
       "      <td>-0.240098</td>\n",
       "      <td>0.012462</td>\n",
       "      <td>3</td>\n",
       "    </tr>\n",
       "    <tr>\n",
       "      <th>12</th>\n",
       "      <td>EXPE</td>\n",
       "      <td>21.977374</td>\n",
       "      <td>107.600188</td>\n",
       "      <td>0.185936</td>\n",
       "      <td>1.000000</td>\n",
       "      <td>3</td>\n",
       "    </tr>\n",
       "    <tr>\n",
       "      <th>33</th>\n",
       "      <td>TDW</td>\n",
       "      <td>9.377761</td>\n",
       "      <td>30.247547</td>\n",
       "      <td>1.000000</td>\n",
       "      <td>-0.970291</td>\n",
       "      <td>1</td>\n",
       "    </tr>\n",
       "    <tr>\n",
       "      <th>35</th>\n",
       "      <td>TSLA</td>\n",
       "      <td>55.466699</td>\n",
       "      <td>223.465660</td>\n",
       "      <td>0.524241</td>\n",
       "      <td>-0.825570</td>\n",
       "      <td>1</td>\n",
       "    </tr>\n",
       "  </tbody>\n",
       "</table>\n",
       "</div>"
      ],
      "text/plain": [
       "   Company  adjclose_std  adjclose_mean  adjclose_coefficient_of_variation   \n",
       "1     ABNB     16.735984     112.405472                          -0.240098  \\\n",
       "12    EXPE     21.977374     107.600188                           0.185936   \n",
       "33     TDW      9.377761      30.247547                           1.000000   \n",
       "35    TSLA     55.466699     223.465660                           0.524241   \n",
       "\n",
       "    adjclose_kurtosis  Cluster  \n",
       "1            0.012462        3  \n",
       "12           1.000000        3  \n",
       "33          -0.970291        1  \n",
       "35          -0.825570        1  "
      ]
     },
     "execution_count": 71,
     "metadata": {},
     "output_type": "execute_result"
    }
   ],
   "source": [
    "final_df[(final_df.Cluster == 1) | (final_df.Cluster == 3)]"
   ]
  },
  {
   "attachments": {},
   "cell_type": "markdown",
   "metadata": {},
   "source": [
    "### Sentiment Analysis EDA"
   ]
  },
  {
   "cell_type": "code",
   "execution_count": 74,
   "metadata": {},
   "outputs": [
    {
     "data": {
      "text/html": [
       "<div>\n",
       "<style scoped>\n",
       "    .dataframe tbody tr th:only-of-type {\n",
       "        vertical-align: middle;\n",
       "    }\n",
       "\n",
       "    .dataframe tbody tr th {\n",
       "        vertical-align: top;\n",
       "    }\n",
       "\n",
       "    .dataframe thead th {\n",
       "        text-align: right;\n",
       "    }\n",
       "</style>\n",
       "<table border=\"1\" class=\"dataframe\">\n",
       "  <thead>\n",
       "    <tr style=\"text-align: right;\">\n",
       "      <th></th>\n",
       "      <th>Company</th>\n",
       "      <th>News</th>\n",
       "      <th>roberta_scores</th>\n",
       "      <th>rob_neg</th>\n",
       "      <th>rob_neu</th>\n",
       "      <th>rob_pos</th>\n",
       "      <th>finbert_scores</th>\n",
       "      <th>fin_neg</th>\n",
       "      <th>fin_neu</th>\n",
       "      <th>fin_pos</th>\n",
       "    </tr>\n",
       "  </thead>\n",
       "  <tbody>\n",
       "    <tr>\n",
       "      <th>0</th>\n",
       "      <td>AAPL</td>\n",
       "      <td>What leaders are saying about the economy in t...</td>\n",
       "      <td>{'negative_score': 0.019849356, 'neutral_score...</td>\n",
       "      <td>0.019849</td>\n",
       "      <td>0.944306</td>\n",
       "      <td>0.035845</td>\n",
       "      <td>{'negative_score': 0.0004181307, 'neutral_scor...</td>\n",
       "      <td>0.000418</td>\n",
       "      <td>0.999563</td>\n",
       "      <td>0.000019</td>\n",
       "    </tr>\n",
       "    <tr>\n",
       "      <th>1</th>\n",
       "      <td>AAPL</td>\n",
       "      <td>Are There Rough Waters Ahead On Tech Earnings ...</td>\n",
       "      <td>{'negative_score': 0.14316593, 'neutral_score'...</td>\n",
       "      <td>0.143166</td>\n",
       "      <td>0.834439</td>\n",
       "      <td>0.022395</td>\n",
       "      <td>{'negative_score': 0.00021061316, 'neutral_sco...</td>\n",
       "      <td>0.000211</td>\n",
       "      <td>0.999761</td>\n",
       "      <td>0.000028</td>\n",
       "    </tr>\n",
       "    <tr>\n",
       "      <th>2</th>\n",
       "      <td>AAPL</td>\n",
       "      <td>Apple Plans iPhone Journaling App in Expansion...</td>\n",
       "      <td>{'negative_score': 0.0076362663, 'neutral_scor...</td>\n",
       "      <td>0.007636</td>\n",
       "      <td>0.728212</td>\n",
       "      <td>0.264151</td>\n",
       "      <td>{'negative_score': 8.6331875e-06, 'neutral_sco...</td>\n",
       "      <td>0.000009</td>\n",
       "      <td>0.989234</td>\n",
       "      <td>0.010757</td>\n",
       "    </tr>\n",
       "    <tr>\n",
       "      <th>3</th>\n",
       "      <td>AAPL</td>\n",
       "      <td>Apple Pays Long Road to Paying Off Is Getting ...</td>\n",
       "      <td>{'negative_score': 0.37146127, 'neutral_score'...</td>\n",
       "      <td>0.371461</td>\n",
       "      <td>0.556915</td>\n",
       "      <td>0.071623</td>\n",
       "      <td>{'negative_score': 0.010994043, 'neutral_score...</td>\n",
       "      <td>0.010994</td>\n",
       "      <td>0.884704</td>\n",
       "      <td>0.104302</td>\n",
       "    </tr>\n",
       "    <tr>\n",
       "      <th>4</th>\n",
       "      <td>AAPL</td>\n",
       "      <td>3 Red Flags for Alphabet's Future</td>\n",
       "      <td>{'negative_score': 0.0047791433, 'neutral_scor...</td>\n",
       "      <td>0.004779</td>\n",
       "      <td>0.434086</td>\n",
       "      <td>0.561135</td>\n",
       "      <td>{'negative_score': 0.0019774495, 'neutral_scor...</td>\n",
       "      <td>0.001977</td>\n",
       "      <td>0.066884</td>\n",
       "      <td>0.931138</td>\n",
       "    </tr>\n",
       "  </tbody>\n",
       "</table>\n",
       "</div>"
      ],
      "text/plain": [
       "  Company                                               News   \n",
       "0    AAPL  What leaders are saying about the economy in t...  \\\n",
       "1    AAPL  Are There Rough Waters Ahead On Tech Earnings ...   \n",
       "2    AAPL  Apple Plans iPhone Journaling App in Expansion...   \n",
       "3    AAPL  Apple Pays Long Road to Paying Off Is Getting ...   \n",
       "4    AAPL                  3 Red Flags for Alphabet's Future   \n",
       "\n",
       "                                      roberta_scores   rob_neg   rob_neu   \n",
       "0  {'negative_score': 0.019849356, 'neutral_score...  0.019849  0.944306  \\\n",
       "1  {'negative_score': 0.14316593, 'neutral_score'...  0.143166  0.834439   \n",
       "2  {'negative_score': 0.0076362663, 'neutral_scor...  0.007636  0.728212   \n",
       "3  {'negative_score': 0.37146127, 'neutral_score'...  0.371461  0.556915   \n",
       "4  {'negative_score': 0.0047791433, 'neutral_scor...  0.004779  0.434086   \n",
       "\n",
       "    rob_pos                                     finbert_scores   fin_neg   \n",
       "0  0.035845  {'negative_score': 0.0004181307, 'neutral_scor...  0.000418  \\\n",
       "1  0.022395  {'negative_score': 0.00021061316, 'neutral_sco...  0.000211   \n",
       "2  0.264151  {'negative_score': 8.6331875e-06, 'neutral_sco...  0.000009   \n",
       "3  0.071623  {'negative_score': 0.010994043, 'neutral_score...  0.010994   \n",
       "4  0.561135  {'negative_score': 0.0019774495, 'neutral_scor...  0.001977   \n",
       "\n",
       "    fin_neu   fin_pos  \n",
       "0  0.999563  0.000019  \n",
       "1  0.999761  0.000028  \n",
       "2  0.989234  0.010757  \n",
       "3  0.884704  0.104302  \n",
       "4  0.066884  0.931138  "
      ]
     },
     "execution_count": 74,
     "metadata": {},
     "output_type": "execute_result"
    }
   ],
   "source": [
    "companies_news = pd.read_csv('./company_news.csv')\n",
    "companies_news.head()"
   ]
  },
  {
   "attachments": {},
   "cell_type": "markdown",
   "metadata": {},
   "source": [
    "Comparing the two models' results. "
   ]
  },
  {
   "cell_type": "code",
   "execution_count": 59,
   "metadata": {},
   "outputs": [
    {
     "data": {
      "image/png": "[encoded data removed]",
      "text/plain": [
       "<Figure size 1440x1440 with 4 Axes>"
      ]
     },
     "metadata": {
      "needs_background": "light"
     },
     "output_type": "display_data"
    }
   ],
   "source": [
    "fig, ax = plt.subplots(2,2, figsize=(20,20)) \n",
    "\n",
    "ax[0,0].set_title('roBERTa Negative Ditribution') \n",
    "sns.histplot(data=companies_news, x='rob_neg', bins=50 ,ax=ax[0,0]) \n",
    "\n",
    "ax[0,1].set_title('finBERT Negative Ditribution') \n",
    "sns.histplot(data=companies_news, x='fin_neg', bins=50 ,ax=ax[0,1])\n",
    "\n",
    "ax[1,0].set_title('roBERTa Positive Ditribution') \n",
    "sns.histplot(data=companies_news, x='rob_pos', bins=50 ,ax=ax[1,0]) \n",
    "\n",
    "ax[1,1].set_title('finBERT Positive Ditribution') \n",
    "sns.histplot(data=companies_news, x='fin_pos', bins=50 ,ax=ax[1,1]);"
   ]
  },
  {
   "attachments": {},
   "cell_type": "markdown",
   "metadata": {},
   "source": [
    "Negative news examples. "
   ]
  },
  {
   "cell_type": "code",
   "execution_count": 68,
   "metadata": {},
   "outputs": [
    {
     "data": {
      "text/html": [
       "<div>\n",
       "<style scoped>\n",
       "    .dataframe tbody tr th:only-of-type {\n",
       "        vertical-align: middle;\n",
       "    }\n",
       "\n",
       "    .dataframe tbody tr th {\n",
       "        vertical-align: top;\n",
       "    }\n",
       "\n",
       "    .dataframe thead th {\n",
       "        text-align: right;\n",
       "    }\n",
       "</style>\n",
       "<table border=\"1\" class=\"dataframe\">\n",
       "  <thead>\n",
       "    <tr style=\"text-align: right;\">\n",
       "      <th></th>\n",
       "      <th>Company</th>\n",
       "      <th>News</th>\n",
       "      <th>roberta_scores</th>\n",
       "      <th>rob_neg</th>\n",
       "      <th>rob_neu</th>\n",
       "      <th>rob_pos</th>\n",
       "      <th>finbert_scores</th>\n",
       "      <th>fin_neg</th>\n",
       "      <th>fin_neu</th>\n",
       "      <th>fin_pos</th>\n",
       "    </tr>\n",
       "  </thead>\n",
       "  <tbody>\n",
       "    <tr>\n",
       "      <th>3497</th>\n",
       "      <td>EXPE</td>\n",
       "      <td>Upgraded Broker Ratings Make These 3 Stocks Wo...</td>\n",
       "      <td>{'negative_score': 0.0044745845, 'neutral_scor...</td>\n",
       "      <td>0.004475</td>\n",
       "      <td>0.269564</td>\n",
       "      <td>0.725962</td>\n",
       "      <td>{'negative_score': 0.00025005874, 'neutral_sco...</td>\n",
       "      <td>2.500587e-04</td>\n",
       "      <td>9.996657e-03</td>\n",
       "      <td>0.989753</td>\n",
       "    </tr>\n",
       "    <tr>\n",
       "      <th>462</th>\n",
       "      <td>CRM</td>\n",
       "      <td>Best Stock to Buy: Amazon vs. Salesforce</td>\n",
       "      <td>{'negative_score': 0.0067111086, 'neutral_scor...</td>\n",
       "      <td>0.006711</td>\n",
       "      <td>0.288374</td>\n",
       "      <td>0.704915</td>\n",
       "      <td>{'negative_score': 1.3635886e-07, 'neutral_sco...</td>\n",
       "      <td>1.363589e-07</td>\n",
       "      <td>8.738730e-07</td>\n",
       "      <td>0.999999</td>\n",
       "    </tr>\n",
       "    <tr>\n",
       "      <th>1601</th>\n",
       "      <td>WFC</td>\n",
       "      <td>American Express CEO: Analysts got it wrong, w...</td>\n",
       "      <td>{'negative_score': 0.4613102, 'neutral_score':...</td>\n",
       "      <td>0.461310</td>\n",
       "      <td>0.402953</td>\n",
       "      <td>0.135737</td>\n",
       "      <td>{'negative_score': 5.441724e-07, 'neutral_scor...</td>\n",
       "      <td>5.441724e-07</td>\n",
       "      <td>2.678798e-07</td>\n",
       "      <td>0.999999</td>\n",
       "    </tr>\n",
       "    <tr>\n",
       "      <th>3356</th>\n",
       "      <td>ABNB</td>\n",
       "      <td>Heres Why Airbnb (ABNB) Outperformed in Q1</td>\n",
       "      <td>{'negative_score': 0.0923158, 'neutral_score':...</td>\n",
       "      <td>0.092316</td>\n",
       "      <td>0.794112</td>\n",
       "      <td>0.113572</td>\n",
       "      <td>{'negative_score': 1.995534e-05, 'neutral_scor...</td>\n",
       "      <td>1.995534e-05</td>\n",
       "      <td>4.182898e-06</td>\n",
       "      <td>0.999976</td>\n",
       "    </tr>\n",
       "    <tr>\n",
       "      <th>1340</th>\n",
       "      <td>DB</td>\n",
       "      <td>Recent 3.5% pullback isn't enough to hurt long...</td>\n",
       "      <td>{'negative_score': 0.21342348, 'neutral_score'...</td>\n",
       "      <td>0.213423</td>\n",
       "      <td>0.529151</td>\n",
       "      <td>0.257425</td>\n",
       "      <td>{'negative_score': 0.0021576928, 'neutral_scor...</td>\n",
       "      <td>2.157693e-03</td>\n",
       "      <td>2.116193e-03</td>\n",
       "      <td>0.995726</td>\n",
       "    </tr>\n",
       "    <tr>\n",
       "      <th>2918</th>\n",
       "      <td>SU</td>\n",
       "      <td>12 Cheap Energy Stocks To Buy</td>\n",
       "      <td>{'negative_score': 0.09446088, 'neutral_score'...</td>\n",
       "      <td>0.094461</td>\n",
       "      <td>0.784327</td>\n",
       "      <td>0.121212</td>\n",
       "      <td>{'negative_score': 7.2964885e-06, 'neutral_sco...</td>\n",
       "      <td>7.296488e-06</td>\n",
       "      <td>2.473063e-06</td>\n",
       "      <td>0.999990</td>\n",
       "    </tr>\n",
       "    <tr>\n",
       "      <th>2080</th>\n",
       "      <td>E</td>\n",
       "      <td>An Oil Rebound in Libya Rests on Shaky Politic...</td>\n",
       "      <td>{'negative_score': 0.61336035, 'neutral_score'...</td>\n",
       "      <td>0.613360</td>\n",
       "      <td>0.375773</td>\n",
       "      <td>0.010866</td>\n",
       "      <td>{'negative_score': 0.0020843009, 'neutral_scor...</td>\n",
       "      <td>2.084301e-03</td>\n",
       "      <td>7.972034e-03</td>\n",
       "      <td>0.989944</td>\n",
       "    </tr>\n",
       "    <tr>\n",
       "      <th>3133</th>\n",
       "      <td>GM</td>\n",
       "      <td>This Dirty Little Secret Could Mean Major Upsi...</td>\n",
       "      <td>{'negative_score': 0.87303185, 'neutral_score'...</td>\n",
       "      <td>0.873032</td>\n",
       "      <td>0.119659</td>\n",
       "      <td>0.007309</td>\n",
       "      <td>{'negative_score': 2.713765e-07, 'neutral_scor...</td>\n",
       "      <td>2.713765e-07</td>\n",
       "      <td>3.937142e-07</td>\n",
       "      <td>0.999999</td>\n",
       "    </tr>\n",
       "    <tr>\n",
       "      <th>3932</th>\n",
       "      <td>BABA</td>\n",
       "      <td>Why Alibaba Stock Jumped 16% in March</td>\n",
       "      <td>{'negative_score': 0.006142731, 'neutral_score...</td>\n",
       "      <td>0.006143</td>\n",
       "      <td>0.166419</td>\n",
       "      <td>0.827439</td>\n",
       "      <td>{'negative_score': 1.2941336e-05, 'neutral_sco...</td>\n",
       "      <td>1.294134e-05</td>\n",
       "      <td>1.462978e-03</td>\n",
       "      <td>0.998524</td>\n",
       "    </tr>\n",
       "    <tr>\n",
       "      <th>476</th>\n",
       "      <td>CRM</td>\n",
       "      <td>Is It Worth Investing in Salesforce.com (CRM) ...</td>\n",
       "      <td>{'negative_score': 0.37581527, 'neutral_score'...</td>\n",
       "      <td>0.375815</td>\n",
       "      <td>0.590104</td>\n",
       "      <td>0.034081</td>\n",
       "      <td>{'negative_score': 4.9788625e-08, 'neutral_sco...</td>\n",
       "      <td>4.978862e-08</td>\n",
       "      <td>6.309882e-08</td>\n",
       "      <td>1.000000</td>\n",
       "    </tr>\n",
       "  </tbody>\n",
       "</table>\n",
       "</div>"
      ],
      "text/plain": [
       "     Company                                               News   \n",
       "3497    EXPE  Upgraded Broker Ratings Make These 3 Stocks Wo...  \\\n",
       "462      CRM           Best Stock to Buy: Amazon vs. Salesforce   \n",
       "1601     WFC  American Express CEO: Analysts got it wrong, w...   \n",
       "3356    ABNB         Heres Why Airbnb (ABNB) Outperformed in Q1   \n",
       "1340      DB  Recent 3.5% pullback isn't enough to hurt long...   \n",
       "2918      SU                      12 Cheap Energy Stocks To Buy   \n",
       "2080       E  An Oil Rebound in Libya Rests on Shaky Politic...   \n",
       "3133      GM  This Dirty Little Secret Could Mean Major Upsi...   \n",
       "3932    BABA              Why Alibaba Stock Jumped 16% in March   \n",
       "476      CRM  Is It Worth Investing in Salesforce.com (CRM) ...   \n",
       "\n",
       "                                         roberta_scores   rob_neg   rob_neu   \n",
       "3497  {'negative_score': 0.0044745845, 'neutral_scor...  0.004475  0.269564  \\\n",
       "462   {'negative_score': 0.0067111086, 'neutral_scor...  0.006711  0.288374   \n",
       "1601  {'negative_score': 0.4613102, 'neutral_score':...  0.461310  0.402953   \n",
       "3356  {'negative_score': 0.0923158, 'neutral_score':...  0.092316  0.794112   \n",
       "1340  {'negative_score': 0.21342348, 'neutral_score'...  0.213423  0.529151   \n",
       "2918  {'negative_score': 0.09446088, 'neutral_score'...  0.094461  0.784327   \n",
       "2080  {'negative_score': 0.61336035, 'neutral_score'...  0.613360  0.375773   \n",
       "3133  {'negative_score': 0.87303185, 'neutral_score'...  0.873032  0.119659   \n",
       "3932  {'negative_score': 0.006142731, 'neutral_score...  0.006143  0.166419   \n",
       "476   {'negative_score': 0.37581527, 'neutral_score'...  0.375815  0.590104   \n",
       "\n",
       "       rob_pos                                     finbert_scores   \n",
       "3497  0.725962  {'negative_score': 0.00025005874, 'neutral_sco...  \\\n",
       "462   0.704915  {'negative_score': 1.3635886e-07, 'neutral_sco...   \n",
       "1601  0.135737  {'negative_score': 5.441724e-07, 'neutral_scor...   \n",
       "3356  0.113572  {'negative_score': 1.995534e-05, 'neutral_scor...   \n",
       "1340  0.257425  {'negative_score': 0.0021576928, 'neutral_scor...   \n",
       "2918  0.121212  {'negative_score': 7.2964885e-06, 'neutral_sco...   \n",
       "2080  0.010866  {'negative_score': 0.0020843009, 'neutral_scor...   \n",
       "3133  0.007309  {'negative_score': 2.713765e-07, 'neutral_scor...   \n",
       "3932  0.827439  {'negative_score': 1.2941336e-05, 'neutral_sco...   \n",
       "476   0.034081  {'negative_score': 4.9788625e-08, 'neutral_sco...   \n",
       "\n",
       "           fin_neg       fin_neu   fin_pos  \n",
       "3497  2.500587e-04  9.996657e-03  0.989753  \n",
       "462   1.363589e-07  8.738730e-07  0.999999  \n",
       "1601  5.441724e-07  2.678798e-07  0.999999  \n",
       "3356  1.995534e-05  4.182898e-06  0.999976  \n",
       "1340  2.157693e-03  2.116193e-03  0.995726  \n",
       "2918  7.296488e-06  2.473063e-06  0.999990  \n",
       "2080  2.084301e-03  7.972034e-03  0.989944  \n",
       "3133  2.713765e-07  3.937142e-07  0.999999  \n",
       "3932  1.294134e-05  1.462978e-03  0.998524  \n",
       "476   4.978862e-08  6.309882e-08  1.000000  "
      ]
     },
     "execution_count": 68,
     "metadata": {},
     "output_type": "execute_result"
    }
   ],
   "source": [
    "companies_news[companies_news.fin_pos > 0.9].sample(10)"
   ]
  },
  {
   "attachments": {},
   "cell_type": "markdown",
   "metadata": {},
   "source": [
    "Evaluating the four companies from cluster 1 and 3. "
   ]
  },
  {
   "cell_type": "code",
   "execution_count": 76,
   "metadata": {},
   "outputs": [],
   "source": [
    "# Defining a function for assigning the positive and negative label \n",
    "def pos_label(row): \n",
    "    if row['rob_pos'] >= 0.8 and row['fin_pos'] >= 0.8: \n",
    "        return 'Positive' \n",
    "    else:\n",
    "        return 'Not Positive'"
   ]
  },
  {
   "cell_type": "code",
   "execution_count": 94,
   "metadata": {},
   "outputs": [],
   "source": [
    "#Creating a dataframe with only the companies from cluster 1 and 3 \n",
    "cl_one_three = companies_news[companies_news.Company.isin(final_df[(final_df.Cluster == 1) | (final_df.Cluster == 3)].Company.unique())]\n",
    "\n",
    "#Applying the function  \n",
    "cl_one_three['Evaluation'] = cl_one_three.apply(pos_label, axis=1)"
   ]
  },
  {
   "cell_type": "code",
   "execution_count": 101,
   "metadata": {},
   "outputs": [],
   "source": [
    "pos_count = cl_one_three.groupby('Company', as_index=False).Evaluation.value_counts()"
   ]
  },
  {
   "cell_type": "code",
   "execution_count": 119,
   "metadata": {},
   "outputs": [
    {
     "data": {
      "image/png": "[encoded data removed]",
      "text/plain": [
       "<Figure size 1080x360 with 1 Axes>"
      ]
     },
     "metadata": {
      "needs_background": "light"
     },
     "output_type": "display_data"
    }
   ],
   "source": [
    "sns.barplot(data=pos_count[pos_count.Evaluation == 'Positive'], x='Company', y='count', ci=None,\n",
    "            order = pos_count[pos_count.Evaluation == 'Positive'].sort_values('count', ascending=False).Company)\n",
    "plt.title('Positive News Count');"
   ]
  },
  {
   "attachments": {},
   "cell_type": "markdown",
   "metadata": {},
   "source": [
    "# Conclusion  \n",
    "\n",
    "This part of the analysis has been crucial to determine different stocks' risk and to have a better understanding of the general situation.  \n",
    "In general, many improvements can be performed, starting from the way in which identifying companies' volatility for example.  \n",
    "However, it can be considered a good starting point for future development."
   ]
  }
 ],
 "metadata": {
  "kernelspec": {
   "display_name": "Python 3",
   "language": "python",
   "name": "python3"
  },
  "language_info": {
   "codemirror_mode": {
    "name": "ipython",
    "version": 3
   },
   "file_extension": ".py",
   "mimetype": "text/x-python",
   "name": "python",
   "nbconvert_exporter": "python",
   "pygments_lexer": "ipython3",
   "version": "3.10.2"
  },
  "orig_nbformat": 4
 },
 "nbformat": 4,
 "nbformat_minor": 2
}
